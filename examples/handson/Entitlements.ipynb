{
 "cells": [
  {
   "cell_type": "code",
   "execution_count": 1,
   "metadata": {},
   "outputs": [
    {
     "data": {
      "text/html": [
       "\n",
       "    <form action=\"javascript:code_toggle()\"><input type=\"submit\" id=\"toggleButton\" value=\"Toggle Docstring\"></form>\n",
       "    \n",
       "         <script>\n",
       "         function code_toggle() {\n",
       "             if ($('div.cell.code_cell.rendered.selected div.input').css('display')!='none'){\n",
       "                 $('div.cell.code_cell.rendered.selected div.input').hide();\n",
       "             } else {\n",
       "                 $('div.cell.code_cell.rendered.selected div.input').show();\n",
       "             }\n",
       "         }\n",
       "         </script>\n",
       "\n",
       "     "
      ],
      "text/plain": [
       "<IPython.core.display.HTML object>"
      ]
     },
     "metadata": {},
     "output_type": "display_data"
    }
   ],
   "source": [
    "from lusidtools.jupyter_tools import toggle_code\n",
    "\n",
    "\"\"\"Portfolio Entitlements\n",
    "\n",
    "Demonstrates how to create policies/access control to various date items.\n",
    "\n",
    "Attributes\n",
    "----------\n",
    "entitlements\n",
    "\"\"\"\n",
    "\n",
    "toggle_code(\"Toggle Docstring\")"
   ]
  },
  {
   "cell_type": "markdown",
   "metadata": {},
   "source": [
    "# Portfolio Entitlements"
   ]
  },
  {
   "cell_type": "markdown",
   "metadata": {},
   "source": [
    "## 1. Setup"
   ]
  },
  {
   "cell_type": "code",
   "execution_count": 3,
   "metadata": {},
   "outputs": [
    {
     "data": {
      "text/html": [
       "<style>.container { width:90% !important; }</style>"
      ],
      "text/plain": [
       "<IPython.core.display.HTML object>"
      ]
     },
     "metadata": {},
     "output_type": "display_data"
    },
    {
     "data": {
      "text/html": [
       "<div>\n",
       "<style scoped>\n",
       "    .dataframe tbody tr th:only-of-type {\n",
       "        vertical-align: middle;\n",
       "    }\n",
       "\n",
       "    .dataframe tbody tr th {\n",
       "        vertical-align: top;\n",
       "    }\n",
       "\n",
       "    .dataframe thead th {\n",
       "        text-align: right;\n",
       "    }\n",
       "</style>\n",
       "<table border=\"1\" class=\"dataframe\">\n",
       "  <thead>\n",
       "    <tr style=\"text-align: right;\">\n",
       "      <th></th>\n",
       "      <th>api_version</th>\n",
       "      <th>build_version</th>\n",
       "      <th>excel_version</th>\n",
       "      <th>links</th>\n",
       "    </tr>\n",
       "  </thead>\n",
       "  <tbody>\n",
       "    <tr>\n",
       "      <th>0</th>\n",
       "      <td>v0</td>\n",
       "      <td>0.6.8392.0</td>\n",
       "      <td>0.5.2556</td>\n",
       "      <td>{'relation': 'RequestLogs', 'href': 'http://bl...</td>\n",
       "    </tr>\n",
       "  </tbody>\n",
       "</table>\n",
       "</div>"
      ],
      "text/plain": [
       "  api_version build_version excel_version  \\\n",
       "0          v0    0.6.8392.0      0.5.2556   \n",
       "\n",
       "                                               links  \n",
       "0  {'relation': 'RequestLogs', 'href': 'http://bl...  "
      ]
     },
     "metadata": {},
     "output_type": "display_data"
    }
   ],
   "source": [
    "# Import Libraries\n",
    "import os\n",
    "import json\n",
    "import pytz\n",
    "\n",
    "from datetime import datetime, timedelta\n",
    "\n",
    "import finbourne_access\n",
    "import finbourne_identity\n",
    "import lusid\n",
    "import lusid.models as lm\n",
    "import pandas as pd\n",
    "from lusid import ApiException\n",
    "from datetime import date\n",
    "\n",
    "from finbourne_access import models as access_models\n",
    "from finbourne_identity import models as identity_models\n",
    "from lusidjam import RefreshingToken\n",
    "from IPython.core.display import HTML\n",
    "\n",
    "# Set DataFrame display formats\n",
    "pd.set_option(\"display.max_columns\", None)\n",
    "pd.set_option(\"display.max_rows\", None)\n",
    "pd.options.display.float_format = \"{:,.2f}\".format\n",
    "display(HTML(\"<style>.container { width:90% !important; }</style>\"))\n",
    "\n",
    "# Authenticate our user and create our API client\n",
    "# secrets_path = os.getenv(\"FBN_SECRETS_PATH\")\n",
    "secrets_path = '/Users/msingh/Projects/lusidws/secrets.json'\n",
    "\n",
    "lusid_api_factory = lusid.utilities.ApiClientFactory(\n",
    "    token=RefreshingToken(),\n",
    "    api_secrets_filename=secrets_path,\n",
    "    app_name=\"LusidJupyterNotebook\",\n",
    ")\n",
    "\n",
    "api_client = lusid_api_factory.api_client\n",
    "\n",
    "lusid_api_url = api_client.configuration.host\n",
    "access_api_url = lusid_api_url[: lusid_api_url.rfind(\"/\") + 1] + \"access\"\n",
    "identity_api_url = lusid_api_url[: lusid_api_url.rfind(\"/\") + 1] + \"identity\"\n",
    "\n",
    "access_api_factory = finbourne_access.utilities.ApiClientFactory(\n",
    "    token=api_client.configuration.access_token,\n",
    "    access_url=access_api_url,\n",
    "    app_name=\"LusidJupyterNotebook\",\n",
    ")\n",
    "\n",
    "identity_api_factory = finbourne_identity.utilities.ApiClientFactory(\n",
    "    token=api_client.configuration.access_token,\n",
    "    api_url=identity_api_url,\n",
    "    app_name=\"LusidJupyterNotebook\",\n",
    ")\n",
    "\n",
    "api_status = pd.DataFrame(\n",
    "    lusid_api_factory.build(lusid.api.ApplicationMetadataApi)\n",
    "    .get_lusid_versions()\n",
    "    .to_dict()\n",
    ")\n",
    "\n",
    "display(api_status)"
   ]
  },
  {
   "cell_type": "code",
   "execution_count": 5,
   "metadata": {},
   "outputs": [],
   "source": [
    "policies_api = access_api_factory.build(finbourne_access.PoliciesApi)\n",
    "portfolios_api = lusid_api_factory.build(lusid.PortfoliosApi)\n",
    "transactions_api = lusid_api_factory.build(lusid.TransactionPortfoliosApi)\n",
    "access_roles_api = access_api_factory.build(finbourne_access.RolesApi)\n",
    "identity_roles_api = identity_api_factory.build(finbourne_identity.RolesApi)\n",
    "users_api = identity_api_factory.build(finbourne_identity.UsersApi)"
   ]
  },
  {
   "cell_type": "markdown",
   "metadata": {},
   "source": [
    "## 1.2 Create Portfolios"
   ]
  },
  {
   "cell_type": "code",
   "execution_count": 7,
   "metadata": {},
   "outputs": [],
   "source": [
    "def check_portfolio(code, scope):\n",
    "    try:\n",
    "        result = portfolios_api.delete_portfolio(code=code, scope=scope)\n",
    "        return 'Portfolio successfull deleted'\n",
    "    except ApiException as e:\n",
    "        return 'Portfolio does not yet exist'"
   ]
  },
  {
   "cell_type": "code",
   "execution_count": 13,
   "metadata": {},
   "outputs": [],
   "source": [
    "def create_portfolio(portfolio_code, scope='', display_name='', base_currency='GBP'):\n",
    "    check_portfolio(portfolio_code, scope)\n",
    "    request = lm.CreateTransactionPortfolioRequest(\n",
    "        display_name=display_name,\n",
    "        code=portfolio_code,\n",
    "        base_currency=base_currency,\n",
    "        created=str(date(2020,1,1)))\n",
    "    try:\n",
    "        result = transactions_api.create_portfolio(\n",
    "            scope=scope,\n",
    "            create_transaction_portfolio_request=request\n",
    "        )\n",
    "        return result\n",
    "    except ApiException as e:\n",
    "        display(json.loads(e.body)['title'])"
   ]
  },
  {
   "cell_type": "code",
   "execution_count": 66,
   "metadata": {},
   "outputs": [],
   "source": [
    "PS_FUND_MANAGER = 'Portfolio/PS/FundManager'\n",
    "FIODE_FUND_MANAGER = 'Portfolio/FIODE/FundManager'\n",
    "CRIMS_FUND_MANAGER = 'Portfolio/CRIMS/FundManager'\n",
    "\n",
    "scope = 'prod'\n",
    "portfolio_code = '1354'\n",
    "display_name = 'Portfolio ' + portfolio_code\n",
    "transaction_date = datetime.now()"
   ]
  },
  {
   "cell_type": "code",
   "execution_count": 68,
   "metadata": {},
   "outputs": [
    {
     "data": {
      "text/plain": [
       "\"Could not create a portfolio with id '1354' because it already exists in scope 'prod'.\""
      ]
     },
     "metadata": {},
     "output_type": "display_data"
    }
   ],
   "source": [
    "properties = {\n",
    "    PS_FUND_MANAGER: lusid.ModelProperty(key=PS_FUND_MANAGER, value=lusid.PropertyValue('PS Singh'))\n",
    "}\n",
    "\n",
    "request = lm.CreateTransactionPortfolioRequest(\n",
    "    display_name=display_name,\n",
    "    code=portfolio_code,\n",
    "    base_currency='GBP',\n",
    "    created=str(date(2021, 12, 24)),\n",
    "    properties=properties\n",
    ")\n",
    "\n",
    "try:\n",
    "    result = transactions_api.create_portfolio(\n",
    "            scope=scope,\n",
    "            create_transaction_portfolio_request=request\n",
    "        )\n",
    "    print(result)\n",
    "except ApiException as e:\n",
    "    display(json.loads(e.body)['title'])"
   ]
  },
  {
   "cell_type": "code",
   "execution_count": 69,
   "metadata": {},
   "outputs": [
    {
     "name": "stdout",
     "output_type": "stream",
     "text": [
      "{'base_currency': 'GBP',\n",
      " 'corporate_action_source_id': None,\n",
      " 'href': 'https://bleugrain.lusid.com/api/api/transactionportfolios/prod/1354/details?effectiveAt=2021-12-24T00%3A00%3A00.0000000%2B00%3A00&asAt=2021-12-24T10%3A54%3A32.8179100%2B00%3A00',\n",
      " 'instrument_scopes': [],\n",
      " 'links': [{'description': None,\n",
      "            'href': 'https://bleugrain.lusid.com/api/api/portfolios/prod/1354?effectiveAt=2021-12-24T00%3A00%3A00.0000000%2B00%3A00&asAt=2021-12-24T10%3A54%3A32.8179100%2B00%3A00',\n",
      "            'method': 'GET',\n",
      "            'relation': 'Root'},\n",
      "           {'description': 'A link to the LUSID Insights website showing all '\n",
      "                           'logs related to this request',\n",
      "            'href': 'http://bleugrain.lusid.com/app/insights/logs/0HME64GDPR7LP:00000006',\n",
      "            'method': 'GET',\n",
      "            'relation': 'RequestLogs'}],\n",
      " 'origin_portfolio_id': {'code': '1354', 'scope': 'prod'},\n",
      " 'sub_holding_keys': [],\n",
      " 'version': {'as_at_date': datetime.datetime(2021, 12, 24, 10, 54, 32, 817910, tzinfo=tzutc()),\n",
      "             'effective_from': datetime.datetime(2021, 12, 24, 0, 0, tzinfo=tzutc())}}\n"
     ]
    }
   ],
   "source": [
    "properties = {\n",
    "    FIODE_FUND_MANAGER: lusid.ModelProperty(key=FIODE_FUND_MANAGER, value=lusid.PropertyValue('FIODE Singh'))\n",
    "}\n",
    "\n",
    "request = lm.CreateTransactionPortfolioRequest(\n",
    "    display_name=display_name,\n",
    "    code=portfolio_code,\n",
    "    base_currency='GBP',\n",
    "    created=str(date(2021, 12, 24)),\n",
    "    properties=properties\n",
    ")\n",
    "\n",
    "try:\n",
    "    result = transactions_api.upsert_portfolio_details(\n",
    "            scope=scope,\n",
    "            code=portfolio_code,\n",
    "            create_portfolio_details=request,\n",
    "        )\n",
    "    print(result)\n",
    "except ApiException as e:\n",
    "    display(json.loads(e.body)['title'])"
   ]
  },
  {
   "cell_type": "code",
   "execution_count": 70,
   "metadata": {},
   "outputs": [],
   "source": [
    "properties = {\n",
    "    PS_FUND_MANAGER: lusid.ModelProperty(key=PS_FUND_MANAGER, value=lusid.PropertyValue('PS Singh')),\n",
    "    FIODE_FUND_MANAGER: lusid.ModelProperty(key=FIODE_FUND_MANAGER, value=lusid.PropertyValue('FIODE Singh')),\n",
    "    CRIMS_FUND_MANAGER: lusid.ModelProperty(key=CRIMS_FUND_MANAGER, value=lusid.PropertyValue('CRIMS Singh')),\n",
    "}\n",
    "\n",
    "request = lm.CreateTransactionPortfolioRequest(\n",
    "    display_name=display_name,\n",
    "    code=portfolio_code,\n",
    "    base_currency='GBP',\n",
    "    created=str(date(2021, 12, 24)),\n",
    "    properties=properties\n",
    ")\n",
    "\n",
    "try:\n",
    "    result = transactions_api.upsert_portfolio_details(\n",
    "            scope=scope,\n",
    "            code=portfolio_code,\n",
    "            create_portfolio_details=request\n",
    "        )\n",
    "except ApiException as e:\n",
    "    display(json.loads(e.body)['title'])"
   ]
  },
  {
   "cell_type": "code",
   "execution_count": 71,
   "metadata": {},
   "outputs": [
    {
     "ename": "ApiException",
     "evalue": "(400)\nReason: Bad Request\nHTTP response headers: HTTPHeaderDict({'Date': 'Fri, 24 Dec 2021 10:54:37 GMT', 'Content-Type': 'application/problem+json; charset=utf-8', 'Content-Length': '641', 'Connection': 'keep-alive', 'X-Rate-Limit-Limit': '1m', 'X-Rate-Limit-Remaining': '4995', 'X-Rate-Limit-Reset': '2021-12-24T10:55:16.3375593Z', 'lusid-meta-success': 'False', 'lusid-meta-requestId': '0HME5DH33K5N8:00000004', 'lusid-meta-correlationId': '0HME5DH33K5N8:00000004', 'lusid-meta-duration': '30', 'Strict-Transport-Security': 'max-age=15724800; includeSubDomains', 'Server': 'FINBOURNE', 'Content-Security-Policy': \"default-src 'self' https://*.lusid.com https://*.finbourne.com; script-src 'unsafe-inline' 'self' https://*.lusid.com https://*.finbourne.com; font-src 'self' fonts.googleapis.com; img-src data: 'self' https://*.lusid.com https://*.finbourne.com; style-src 'unsafe-inline' 'self' https://*.lusid.com https://*.finbourne.com; report-uri https://lusid.report-uri.com/r/d/csp/enforce\", 'X-Frame-Options': 'SAMEORIGIN', 'Permissions-Policy': 'accelerometer=(), ambient-light-sensor=(), autoplay=(self), battery=(), camera=(), cross-origin-isolated=(self), display-capture=(), document-domain=*, encrypted-media=(), execution-while-not-rendered=(), execution-while-out-of-viewport=(), fullscreen=(self), geolocation=(self), gyroscope=(), keyboard-map=(), magnetometer=(), microphone=(), midi=(), navigation-override=(), payment=(), picture-in-picture=(), publickey-credentials-get=(), screen-wake-lock=(), sync-xhr=(), usb=(), web-share=(), xr-spatial-tracking=()', 'Referrer-Policy': 'strict-origin-when-cross-origin', 'X-XSS-Protection': '1; mode=block', 'X-Content-Type-Options': 'nosniff', 'Expect-CT': \"max-age=3600, enforce, report-uri='https://lusid.report-uri.com/r/d/ct/enforce'\", 'Access-Control-Max-Age': '600'})\nHTTP response body: {\"name\":\"InvalidRequestFailure\",\"errorDetails\":[],\"code\":157,\"errors\":{\"transactions\":[\"The transactions field is required.\"],\"[0].instrumentIdentifiers.Figi\":[\"The provided json is not correctly structured for the expected type.\"]},\"type\":\"https://docs.lusid.com/#section/Error-Codes/157\",\"title\":\"There was a problem with the request\",\"status\":400,\"detail\":\"One or more elements of the request were invalid. Please check that all supplied identifiers are valid and of the correct format, and that all provided data is correctly structured.\",\"instance\":\"https://bleugrain.lusid.com/app/insights/logs/0HME5DH33K5N8:00000004\",\"extensions\":{}}\n",
     "output_type": "error",
     "traceback": [
      "\u001b[0;31m---------------------------------------------------------------------------\u001b[0m",
      "\u001b[0;31mApiException\u001b[0m                              Traceback (most recent call last)",
      "\u001b[0;32m/var/folders/cm/flnk57y92cx3_pgc9s48_9w80000gn/T/ipykernel_3344/144344512.py\u001b[0m in \u001b[0;36m<module>\u001b[0;34m\u001b[0m\n\u001b[1;32m     12\u001b[0m )\n\u001b[1;32m     13\u001b[0m \u001b[0;34m\u001b[0m\u001b[0m\n\u001b[0;32m---> 14\u001b[0;31m response = transactions_api.upsert_transactions(scope, \n\u001b[0m\u001b[1;32m     15\u001b[0m                                                 \u001b[0mportfolio_code\u001b[0m\u001b[0;34m,\u001b[0m\u001b[0;34m\u001b[0m\u001b[0;34m\u001b[0m\u001b[0m\n\u001b[1;32m     16\u001b[0m                                                 transaction_request=[request])\n",
      "\u001b[0;32m~/Projects/lusidws/sample-notebooks/.venv/lib/python3.10/site-packages/lusid/utilities/lusid_retry.py\u001b[0m in \u001b[0;36m__retry\u001b[0;34m(*args, **kwargs)\u001b[0m\n\u001b[1;32m     20\u001b[0m         \u001b[0;32mwhile\u001b[0m \u001b[0mtries\u001b[0m \u001b[0;34m<\u001b[0m \u001b[0mretries\u001b[0m\u001b[0;34m+\u001b[0m\u001b[0;36m1\u001b[0m\u001b[0;34m:\u001b[0m\u001b[0;34m\u001b[0m\u001b[0;34m\u001b[0m\u001b[0m\n\u001b[1;32m     21\u001b[0m             \u001b[0;32mtry\u001b[0m\u001b[0;34m:\u001b[0m\u001b[0;34m\u001b[0m\u001b[0;34m\u001b[0m\u001b[0m\n\u001b[0;32m---> 22\u001b[0;31m                 \u001b[0;32mreturn\u001b[0m \u001b[0mfn\u001b[0m\u001b[0;34m(\u001b[0m\u001b[0;34m*\u001b[0m\u001b[0margs\u001b[0m\u001b[0;34m,\u001b[0m \u001b[0;34m**\u001b[0m\u001b[0mkwargs\u001b[0m\u001b[0;34m)\u001b[0m\u001b[0;34m\u001b[0m\u001b[0;34m\u001b[0m\u001b[0m\n\u001b[0m\u001b[1;32m     23\u001b[0m             \u001b[0;32mexcept\u001b[0m \u001b[0mApiException\u001b[0m \u001b[0;32mas\u001b[0m \u001b[0mex\u001b[0m\u001b[0;34m:\u001b[0m\u001b[0;34m\u001b[0m\u001b[0;34m\u001b[0m\u001b[0m\n\u001b[1;32m     24\u001b[0m \u001b[0;34m\u001b[0m\u001b[0m\n",
      "\u001b[0;32m~/Projects/lusidws/sample-notebooks/.venv/lib/python3.10/site-packages/lusid/utilities/api_client_factory.py\u001b[0m in \u001b[0;36mwrapper\u001b[0;34m(*args, **kwargs)\u001b[0m\n\u001b[1;32m    107\u001b[0m \u001b[0;34m\u001b[0m\u001b[0m\n\u001b[1;32m    108\u001b[0m                 \u001b[0;32melse\u001b[0m\u001b[0;34m:\u001b[0m\u001b[0;34m\u001b[0m\u001b[0;34m\u001b[0m\u001b[0m\n\u001b[0;32m--> 109\u001b[0;31m                     \u001b[0;32mreturn\u001b[0m \u001b[0mattr\u001b[0m\u001b[0;34m(\u001b[0m\u001b[0;34m*\u001b[0m\u001b[0margs\u001b[0m\u001b[0;34m,\u001b[0m \u001b[0;34m**\u001b[0m\u001b[0mkwargs\u001b[0m\u001b[0;34m)\u001b[0m\u001b[0;34m\u001b[0m\u001b[0;34m\u001b[0m\u001b[0m\n\u001b[0m\u001b[1;32m    110\u001b[0m \u001b[0;34m\u001b[0m\u001b[0m\n\u001b[1;32m    111\u001b[0m             \u001b[0;32mreturn\u001b[0m \u001b[0mwrapper\u001b[0m \u001b[0;32mif\u001b[0m \u001b[0minspect\u001b[0m\u001b[0;34m.\u001b[0m\u001b[0mismethod\u001b[0m\u001b[0;34m(\u001b[0m\u001b[0mattr\u001b[0m\u001b[0;34m)\u001b[0m \u001b[0;32melse\u001b[0m \u001b[0mattr\u001b[0m\u001b[0;34m\u001b[0m\u001b[0;34m\u001b[0m\u001b[0m\n",
      "\u001b[0;32m~/Projects/lusidws/sample-notebooks/.venv/lib/python3.10/site-packages/lusid/api/transaction_portfolios_api.py\u001b[0m in \u001b[0;36mupsert_transactions\u001b[0;34m(self, scope, code, transaction_request, **kwargs)\u001b[0m\n\u001b[1;32m   4678\u001b[0m         \"\"\"\n\u001b[1;32m   4679\u001b[0m         \u001b[0mkwargs\u001b[0m\u001b[0;34m[\u001b[0m\u001b[0;34m'_return_http_data_only'\u001b[0m\u001b[0;34m]\u001b[0m \u001b[0;34m=\u001b[0m \u001b[0;32mTrue\u001b[0m\u001b[0;34m\u001b[0m\u001b[0;34m\u001b[0m\u001b[0m\n\u001b[0;32m-> 4680\u001b[0;31m         \u001b[0;32mreturn\u001b[0m \u001b[0mself\u001b[0m\u001b[0;34m.\u001b[0m\u001b[0mupsert_transactions_with_http_info\u001b[0m\u001b[0;34m(\u001b[0m\u001b[0mscope\u001b[0m\u001b[0;34m,\u001b[0m \u001b[0mcode\u001b[0m\u001b[0;34m,\u001b[0m \u001b[0mtransaction_request\u001b[0m\u001b[0;34m,\u001b[0m \u001b[0;34m**\u001b[0m\u001b[0mkwargs\u001b[0m\u001b[0;34m)\u001b[0m  \u001b[0;31m# noqa: E501\u001b[0m\u001b[0;34m\u001b[0m\u001b[0;34m\u001b[0m\u001b[0m\n\u001b[0m\u001b[1;32m   4681\u001b[0m \u001b[0;34m\u001b[0m\u001b[0m\n\u001b[1;32m   4682\u001b[0m     \u001b[0;32mdef\u001b[0m \u001b[0mupsert_transactions_with_http_info\u001b[0m\u001b[0;34m(\u001b[0m\u001b[0mself\u001b[0m\u001b[0;34m,\u001b[0m \u001b[0mscope\u001b[0m\u001b[0;34m,\u001b[0m \u001b[0mcode\u001b[0m\u001b[0;34m,\u001b[0m \u001b[0mtransaction_request\u001b[0m\u001b[0;34m,\u001b[0m \u001b[0;34m**\u001b[0m\u001b[0mkwargs\u001b[0m\u001b[0;34m)\u001b[0m\u001b[0;34m:\u001b[0m  \u001b[0;31m# noqa: E501\u001b[0m\u001b[0;34m\u001b[0m\u001b[0;34m\u001b[0m\u001b[0m\n",
      "\u001b[0;32m~/Projects/lusidws/sample-notebooks/.venv/lib/python3.10/site-packages/lusid/utilities/lusid_retry.py\u001b[0m in \u001b[0;36m__retry\u001b[0;34m(*args, **kwargs)\u001b[0m\n\u001b[1;32m     20\u001b[0m         \u001b[0;32mwhile\u001b[0m \u001b[0mtries\u001b[0m \u001b[0;34m<\u001b[0m \u001b[0mretries\u001b[0m\u001b[0;34m+\u001b[0m\u001b[0;36m1\u001b[0m\u001b[0;34m:\u001b[0m\u001b[0;34m\u001b[0m\u001b[0;34m\u001b[0m\u001b[0m\n\u001b[1;32m     21\u001b[0m             \u001b[0;32mtry\u001b[0m\u001b[0;34m:\u001b[0m\u001b[0;34m\u001b[0m\u001b[0;34m\u001b[0m\u001b[0m\n\u001b[0;32m---> 22\u001b[0;31m                 \u001b[0;32mreturn\u001b[0m \u001b[0mfn\u001b[0m\u001b[0;34m(\u001b[0m\u001b[0;34m*\u001b[0m\u001b[0margs\u001b[0m\u001b[0;34m,\u001b[0m \u001b[0;34m**\u001b[0m\u001b[0mkwargs\u001b[0m\u001b[0;34m)\u001b[0m\u001b[0;34m\u001b[0m\u001b[0;34m\u001b[0m\u001b[0m\n\u001b[0m\u001b[1;32m     23\u001b[0m             \u001b[0;32mexcept\u001b[0m \u001b[0mApiException\u001b[0m \u001b[0;32mas\u001b[0m \u001b[0mex\u001b[0m\u001b[0;34m:\u001b[0m\u001b[0;34m\u001b[0m\u001b[0;34m\u001b[0m\u001b[0m\n\u001b[1;32m     24\u001b[0m \u001b[0;34m\u001b[0m\u001b[0m\n",
      "\u001b[0;32m~/Projects/lusidws/sample-notebooks/.venv/lib/python3.10/site-packages/lusid/utilities/api_client_factory.py\u001b[0m in \u001b[0;36mwrapper\u001b[0;34m(*args, **kwargs)\u001b[0m\n\u001b[1;32m    107\u001b[0m \u001b[0;34m\u001b[0m\u001b[0m\n\u001b[1;32m    108\u001b[0m                 \u001b[0;32melse\u001b[0m\u001b[0;34m:\u001b[0m\u001b[0;34m\u001b[0m\u001b[0;34m\u001b[0m\u001b[0m\n\u001b[0;32m--> 109\u001b[0;31m                     \u001b[0;32mreturn\u001b[0m \u001b[0mattr\u001b[0m\u001b[0;34m(\u001b[0m\u001b[0;34m*\u001b[0m\u001b[0margs\u001b[0m\u001b[0;34m,\u001b[0m \u001b[0;34m**\u001b[0m\u001b[0mkwargs\u001b[0m\u001b[0;34m)\u001b[0m\u001b[0;34m\u001b[0m\u001b[0;34m\u001b[0m\u001b[0m\n\u001b[0m\u001b[1;32m    110\u001b[0m \u001b[0;34m\u001b[0m\u001b[0m\n\u001b[1;32m    111\u001b[0m             \u001b[0;32mreturn\u001b[0m \u001b[0mwrapper\u001b[0m \u001b[0;32mif\u001b[0m \u001b[0minspect\u001b[0m\u001b[0;34m.\u001b[0m\u001b[0mismethod\u001b[0m\u001b[0;34m(\u001b[0m\u001b[0mattr\u001b[0m\u001b[0;34m)\u001b[0m \u001b[0;32melse\u001b[0m \u001b[0mattr\u001b[0m\u001b[0;34m\u001b[0m\u001b[0;34m\u001b[0m\u001b[0m\n",
      "\u001b[0;32m~/Projects/lusidws/sample-notebooks/.venv/lib/python3.10/site-packages/lusid/api/transaction_portfolios_api.py\u001b[0m in \u001b[0;36mupsert_transactions_with_http_info\u001b[0;34m(self, scope, code, transaction_request, **kwargs)\u001b[0m\n\u001b[1;32m   4805\u001b[0m         }\n\u001b[1;32m   4806\u001b[0m \u001b[0;34m\u001b[0m\u001b[0m\n\u001b[0;32m-> 4807\u001b[0;31m         return self.api_client.call_api(\n\u001b[0m\u001b[1;32m   4808\u001b[0m             \u001b[0;34m'/api/transactionportfolios/{scope}/{code}/transactions'\u001b[0m\u001b[0;34m,\u001b[0m \u001b[0;34m'POST'\u001b[0m\u001b[0;34m,\u001b[0m\u001b[0;34m\u001b[0m\u001b[0;34m\u001b[0m\u001b[0m\n\u001b[1;32m   4809\u001b[0m             \u001b[0mpath_params\u001b[0m\u001b[0;34m,\u001b[0m\u001b[0;34m\u001b[0m\u001b[0;34m\u001b[0m\u001b[0m\n",
      "\u001b[0;32m~/Projects/lusidws/sample-notebooks/.venv/lib/python3.10/site-packages/lusid/api_client.py\u001b[0m in \u001b[0;36mcall_api\u001b[0;34m(self, resource_path, method, path_params, query_params, header_params, body, post_params, files, response_types_map, auth_settings, async_req, _return_http_data_only, collection_formats, _preload_content, _request_timeout, _host, _request_auth)\u001b[0m\n\u001b[1;32m    373\u001b[0m         \"\"\"\n\u001b[1;32m    374\u001b[0m         \u001b[0;32mif\u001b[0m \u001b[0;32mnot\u001b[0m \u001b[0masync_req\u001b[0m\u001b[0;34m:\u001b[0m\u001b[0;34m\u001b[0m\u001b[0;34m\u001b[0m\u001b[0m\n\u001b[0;32m--> 375\u001b[0;31m             return self.__call_api(resource_path, method,\n\u001b[0m\u001b[1;32m    376\u001b[0m                                    \u001b[0mpath_params\u001b[0m\u001b[0;34m,\u001b[0m \u001b[0mquery_params\u001b[0m\u001b[0;34m,\u001b[0m \u001b[0mheader_params\u001b[0m\u001b[0;34m,\u001b[0m\u001b[0;34m\u001b[0m\u001b[0;34m\u001b[0m\u001b[0m\n\u001b[1;32m    377\u001b[0m                                    \u001b[0mbody\u001b[0m\u001b[0;34m,\u001b[0m \u001b[0mpost_params\u001b[0m\u001b[0;34m,\u001b[0m \u001b[0mfiles\u001b[0m\u001b[0;34m,\u001b[0m\u001b[0;34m\u001b[0m\u001b[0;34m\u001b[0m\u001b[0m\n",
      "\u001b[0;32m~/Projects/lusidws/sample-notebooks/.venv/lib/python3.10/site-packages/lusid/api_client.py\u001b[0m in \u001b[0;36m__call_api\u001b[0;34m(self, resource_path, method, path_params, query_params, header_params, body, post_params, files, response_types_map, auth_settings, _return_http_data_only, collection_formats, _preload_content, _request_timeout, _host, _request_auth)\u001b[0m\n\u001b[1;32m    190\u001b[0m         \u001b[0;32mexcept\u001b[0m \u001b[0mApiException\u001b[0m \u001b[0;32mas\u001b[0m \u001b[0me\u001b[0m\u001b[0;34m:\u001b[0m\u001b[0;34m\u001b[0m\u001b[0;34m\u001b[0m\u001b[0m\n\u001b[1;32m    191\u001b[0m             \u001b[0me\u001b[0m\u001b[0;34m.\u001b[0m\u001b[0mbody\u001b[0m \u001b[0;34m=\u001b[0m \u001b[0me\u001b[0m\u001b[0;34m.\u001b[0m\u001b[0mbody\u001b[0m\u001b[0;34m.\u001b[0m\u001b[0mdecode\u001b[0m\u001b[0;34m(\u001b[0m\u001b[0;34m'utf-8'\u001b[0m\u001b[0;34m)\u001b[0m \u001b[0;32mif\u001b[0m \u001b[0msix\u001b[0m\u001b[0;34m.\u001b[0m\u001b[0mPY3\u001b[0m \u001b[0;32melse\u001b[0m \u001b[0me\u001b[0m\u001b[0;34m.\u001b[0m\u001b[0mbody\u001b[0m\u001b[0;34m\u001b[0m\u001b[0;34m\u001b[0m\u001b[0m\n\u001b[0;32m--> 192\u001b[0;31m             \u001b[0;32mraise\u001b[0m \u001b[0me\u001b[0m\u001b[0;34m\u001b[0m\u001b[0;34m\u001b[0m\u001b[0m\n\u001b[0m\u001b[1;32m    193\u001b[0m \u001b[0;34m\u001b[0m\u001b[0m\n\u001b[1;32m    194\u001b[0m         \u001b[0mself\u001b[0m\u001b[0;34m.\u001b[0m\u001b[0mlast_response\u001b[0m \u001b[0;34m=\u001b[0m \u001b[0mresponse_data\u001b[0m\u001b[0;34m\u001b[0m\u001b[0;34m\u001b[0m\u001b[0m\n",
      "\u001b[0;32m~/Projects/lusidws/sample-notebooks/.venv/lib/python3.10/site-packages/lusid/api_client.py\u001b[0m in \u001b[0;36m__call_api\u001b[0;34m(self, resource_path, method, path_params, query_params, header_params, body, post_params, files, response_types_map, auth_settings, _return_http_data_only, collection_formats, _preload_content, _request_timeout, _host, _request_auth)\u001b[0m\n\u001b[1;32m    183\u001b[0m         \u001b[0;32mtry\u001b[0m\u001b[0;34m:\u001b[0m\u001b[0;34m\u001b[0m\u001b[0;34m\u001b[0m\u001b[0m\n\u001b[1;32m    184\u001b[0m             \u001b[0;31m# perform request and return response\u001b[0m\u001b[0;34m\u001b[0m\u001b[0;34m\u001b[0m\u001b[0m\n\u001b[0;32m--> 185\u001b[0;31m             response_data = self.request(\n\u001b[0m\u001b[1;32m    186\u001b[0m                 \u001b[0mmethod\u001b[0m\u001b[0;34m,\u001b[0m \u001b[0murl\u001b[0m\u001b[0;34m,\u001b[0m \u001b[0mquery_params\u001b[0m\u001b[0;34m=\u001b[0m\u001b[0mquery_params\u001b[0m\u001b[0;34m,\u001b[0m \u001b[0mheaders\u001b[0m\u001b[0;34m=\u001b[0m\u001b[0mheader_params\u001b[0m\u001b[0;34m,\u001b[0m\u001b[0;34m\u001b[0m\u001b[0;34m\u001b[0m\u001b[0m\n\u001b[1;32m    187\u001b[0m                 \u001b[0mpost_params\u001b[0m\u001b[0;34m=\u001b[0m\u001b[0mpost_params\u001b[0m\u001b[0;34m,\u001b[0m \u001b[0mbody\u001b[0m\u001b[0;34m=\u001b[0m\u001b[0mbody\u001b[0m\u001b[0;34m,\u001b[0m\u001b[0;34m\u001b[0m\u001b[0;34m\u001b[0m\u001b[0m\n",
      "\u001b[0;32m~/Projects/lusidws/sample-notebooks/.venv/lib/python3.10/site-packages/lusid/api_client.py\u001b[0m in \u001b[0;36mrequest\u001b[0;34m(self, method, url, query_params, headers, post_params, body, _preload_content, _request_timeout)\u001b[0m\n\u001b[1;32m    417\u001b[0m                                             _request_timeout=_request_timeout)\n\u001b[1;32m    418\u001b[0m         \u001b[0;32melif\u001b[0m \u001b[0mmethod\u001b[0m \u001b[0;34m==\u001b[0m \u001b[0;34m\"POST\"\u001b[0m\u001b[0;34m:\u001b[0m\u001b[0;34m\u001b[0m\u001b[0;34m\u001b[0m\u001b[0m\n\u001b[0;32m--> 419\u001b[0;31m             return self.rest_client.POST(url,\n\u001b[0m\u001b[1;32m    420\u001b[0m                                          \u001b[0mquery_params\u001b[0m\u001b[0;34m=\u001b[0m\u001b[0mquery_params\u001b[0m\u001b[0;34m,\u001b[0m\u001b[0;34m\u001b[0m\u001b[0;34m\u001b[0m\u001b[0m\n\u001b[1;32m    421\u001b[0m                                          \u001b[0mheaders\u001b[0m\u001b[0;34m=\u001b[0m\u001b[0mheaders\u001b[0m\u001b[0;34m,\u001b[0m\u001b[0;34m\u001b[0m\u001b[0;34m\u001b[0m\u001b[0m\n",
      "\u001b[0;32m~/Projects/lusidws/sample-notebooks/.venv/lib/python3.10/site-packages/lusid/rest.py\u001b[0m in \u001b[0;36mPOST\u001b[0;34m(self, url, headers, query_params, post_params, body, _preload_content, _request_timeout)\u001b[0m\n\u001b[1;32m    289\u001b[0m     def POST(self, url, headers=None, query_params=None, post_params=None,\n\u001b[1;32m    290\u001b[0m              body=None, _preload_content=True, _request_timeout=None):\n\u001b[0;32m--> 291\u001b[0;31m         return self.request(\"POST\", url,\n\u001b[0m\u001b[1;32m    292\u001b[0m                             \u001b[0mheaders\u001b[0m\u001b[0;34m=\u001b[0m\u001b[0mheaders\u001b[0m\u001b[0;34m,\u001b[0m\u001b[0;34m\u001b[0m\u001b[0;34m\u001b[0m\u001b[0m\n\u001b[1;32m    293\u001b[0m                             \u001b[0mquery_params\u001b[0m\u001b[0;34m=\u001b[0m\u001b[0mquery_params\u001b[0m\u001b[0;34m,\u001b[0m\u001b[0;34m\u001b[0m\u001b[0;34m\u001b[0m\u001b[0m\n",
      "\u001b[0;32m~/Projects/lusidws/sample-notebooks/.venv/lib/python3.10/site-packages/lusid/rest.py\u001b[0m in \u001b[0;36mrequest\u001b[0;34m(self, method, url, query_params, headers, body, post_params, _preload_content, _request_timeout)\u001b[0m\n\u001b[1;32m    248\u001b[0m \u001b[0;34m\u001b[0m\u001b[0m\n\u001b[1;32m    249\u001b[0m         \u001b[0;32mif\u001b[0m \u001b[0;32mnot\u001b[0m \u001b[0;36m200\u001b[0m \u001b[0;34m<=\u001b[0m \u001b[0mr\u001b[0m\u001b[0;34m.\u001b[0m\u001b[0mstatus\u001b[0m \u001b[0;34m<=\u001b[0m \u001b[0;36m299\u001b[0m\u001b[0;34m:\u001b[0m\u001b[0;34m\u001b[0m\u001b[0;34m\u001b[0m\u001b[0m\n\u001b[0;32m--> 250\u001b[0;31m             \u001b[0;32mraise\u001b[0m \u001b[0mApiException\u001b[0m\u001b[0;34m(\u001b[0m\u001b[0mhttp_resp\u001b[0m\u001b[0;34m=\u001b[0m\u001b[0mr\u001b[0m\u001b[0;34m)\u001b[0m\u001b[0;34m\u001b[0m\u001b[0;34m\u001b[0m\u001b[0m\n\u001b[0m\u001b[1;32m    251\u001b[0m \u001b[0;34m\u001b[0m\u001b[0m\n\u001b[1;32m    252\u001b[0m         \u001b[0;32mreturn\u001b[0m \u001b[0mr\u001b[0m\u001b[0;34m\u001b[0m\u001b[0;34m\u001b[0m\u001b[0m\n",
      "\u001b[0;31mApiException\u001b[0m: (400)\nReason: Bad Request\nHTTP response headers: HTTPHeaderDict({'Date': 'Fri, 24 Dec 2021 10:54:37 GMT', 'Content-Type': 'application/problem+json; charset=utf-8', 'Content-Length': '641', 'Connection': 'keep-alive', 'X-Rate-Limit-Limit': '1m', 'X-Rate-Limit-Remaining': '4995', 'X-Rate-Limit-Reset': '2021-12-24T10:55:16.3375593Z', 'lusid-meta-success': 'False', 'lusid-meta-requestId': '0HME5DH33K5N8:00000004', 'lusid-meta-correlationId': '0HME5DH33K5N8:00000004', 'lusid-meta-duration': '30', 'Strict-Transport-Security': 'max-age=15724800; includeSubDomains', 'Server': 'FINBOURNE', 'Content-Security-Policy': \"default-src 'self' https://*.lusid.com https://*.finbourne.com; script-src 'unsafe-inline' 'self' https://*.lusid.com https://*.finbourne.com; font-src 'self' fonts.googleapis.com; img-src data: 'self' https://*.lusid.com https://*.finbourne.com; style-src 'unsafe-inline' 'self' https://*.lusid.com https://*.finbourne.com; report-uri https://lusid.report-uri.com/r/d/csp/enforce\", 'X-Frame-Options': 'SAMEORIGIN', 'Permissions-Policy': 'accelerometer=(), ambient-light-sensor=(), autoplay=(self), battery=(), camera=(), cross-origin-isolated=(self), display-capture=(), document-domain=*, encrypted-media=(), execution-while-not-rendered=(), execution-while-out-of-viewport=(), fullscreen=(self), geolocation=(self), gyroscope=(), keyboard-map=(), magnetometer=(), microphone=(), midi=(), navigation-override=(), payment=(), picture-in-picture=(), publickey-credentials-get=(), screen-wake-lock=(), sync-xhr=(), usb=(), web-share=(), xr-spatial-tracking=()', 'Referrer-Policy': 'strict-origin-when-cross-origin', 'X-XSS-Protection': '1; mode=block', 'X-Content-Type-Options': 'nosniff', 'Expect-CT': \"max-age=3600, enforce, report-uri='https://lusid.report-uri.com/r/d/ct/enforce'\", 'Access-Control-Max-Age': '600'})\nHTTP response body: {\"name\":\"InvalidRequestFailure\",\"errorDetails\":[],\"code\":157,\"errors\":{\"transactions\":[\"The transactions field is required.\"],\"[0].instrumentIdentifiers.Figi\":[\"The provided json is not correctly structured for the expected type.\"]},\"type\":\"https://docs.lusid.com/#section/Error-Codes/157\",\"title\":\"There was a problem with the request\",\"status\":400,\"detail\":\"One or more elements of the request were invalid. Please check that all supplied identifiers are valid and of the correct format, and that all provided data is correctly structured.\",\"instance\":\"https://bleugrain.lusid.com/app/insights/logs/0HME5DH33K5N8:00000004\",\"extensions\":{}}\n"
     ]
    }
   ],
   "source": [
    "request = lm.TransactionRequest(\n",
    "    transaction_id='TX000000000001',\n",
    "    type='Buy',\n",
    "    instrument_identifiers={\n",
    "        'Figi': 'BBG000NP5GW2'\n",
    "    },\n",
    "    transaction_date=transaction_date.isoformat(),\n",
    "    settlement_date=transaction_date.isoformat(),\n",
    "    units=3000,\n",
    "    transaction_price=lm.TransactionPrice(432.32, 'Price'),\n",
    "    total_consideration=lm.CurrencyAndAmount(3000*432.32, 'GBP')\n",
    ")\n",
    "\n",
    "response = transactions_api.upsert_transactions(scope, \n",
    "                                                portfolio_code, \n",
    "                                                transaction_request=[request])\n",
    "response = response.to_dict()\n",
    "display({'response link':response['links'][2]['href']})"
   ]
  },
  {
   "cell_type": "code",
   "execution_count": 64,
   "metadata": {},
   "outputs": [],
   "source": [
    "response = portfolios_api.get_portfolio(scope=scope, code='1351', property_keys=[PS_FUND_MANAGER, FIODE_FUND_MANAGER, CRIMS_FUND_MANAGER])\n",
    "#print(response)"
   ]
  },
  {
   "cell_type": "code",
   "execution_count": 23,
   "metadata": {},
   "outputs": [],
   "source": [
    "def upsert_fx(scope, port_code, transaction_date=datetime(2021, 5, 24, tzinfo=pytz.utc)):\n",
    "    T_id = 'Trasaction_1'\n",
    "    request = lm.TransactionRequest(\n",
    "        transaction_id=T_id,\n",
    "        type='FwdFxBuy',\n",
    "        instrument_identifiers={\n",
    "            'Instrument/default/Currency': 'GBP'\n",
    "        },\n",
    "        transaction_date=transaction_date.isoformat(),\n",
    "        settlement_date=transaction_date.isoformat(),\n",
    "        units=1000,\n",
    "        transaction_price=lm.TransactionPrice(1, 'Price'),\n",
    "        total_consideration=lm.CurrencyAndAmount(1000, 'GBP')\n",
    "    )\n",
    "    \n",
    "    response = transactions_api.upsert_transactions(scope, \n",
    "                                                    port_code, \n",
    "                                                    transaction_request=[request])\n",
    "    response = response.to_dict()\n",
    "    display({'response link':response['links'][2]['href']})"
   ]
  },
  {
   "cell_type": "code",
   "execution_count": 24,
   "metadata": {},
   "outputs": [],
   "source": [
    "port_1250_response = create_portfolio('1250', scope='Source1', display_name='Port 1250', base_currency='GBP')\n",
    "port_1232_response = create_portfolio('1232', scope='Source2', display_name='Port 1232', base_currency='GBP')\n",
    "port_6305_response = create_portfolio('6305', scope='Source3', display_name='Port 6305', base_currency='GBP')"
   ]
  },
  {
   "cell_type": "code",
   "execution_count": 27,
   "metadata": {},
   "outputs": [
    {
     "data": {
      "text/plain": [
       "{'response link': 'http://bleugrain.lusid.com/app/insights/logs/0HME5DH33K4DA:00000077'}"
      ]
     },
     "metadata": {},
     "output_type": "display_data"
    },
    {
     "data": {
      "text/plain": [
       "{'response link': 'http://bleugrain.lusid.com/app/insights/logs/0HME5DH33K4DA:00000078'}"
      ]
     },
     "metadata": {},
     "output_type": "display_data"
    }
   ],
   "source": [
    "upsert_fx('Source1', '1250')\n",
    "upsert_fx('Source3', '6305', (datetime.now(tz=pytz.utc) + timedelta(days=-15)))"
   ]
  },
  {
   "cell_type": "code",
   "execution_count": null,
   "metadata": {},
   "outputs": [],
   "source": [
    "lm.CreateTransactionPortfolioRequest(\n",
    "    \n",
    ")"
   ]
  },
  {
   "cell_type": "markdown",
   "metadata": {},
   "source": [
    "## 2. Policy and User creation"
   ]
  },
  {
   "cell_type": "markdown",
   "metadata": {},
   "source": [
    "### 2.1 Policy Creation"
   ]
  },
  {
   "cell_type": "code",
   "execution_count": null,
   "metadata": {},
   "outputs": [],
   "source": [
    "when_spec = access_models.WhenSpec(\n",
    "    activate=datetime.now(tz=pytz.utc) + timedelta(day=2),\n",
    "    deactivate=datetime(2022, 4, 30, tzinfo=pytz.utc)\n",
    ")\n",
    "\n",
    "for_spec = access_models.ForSpec(\n",
    "    effective_date_relative=access_models.EffectiveDateRelative(\n",
    "        date='Now',\n",
    "        adjustment=(datetime.now(tz=pytz.utc) + timedelta(days=0)).strftime('-%j'),\n",
    "        unit='Day',\n",
    "        relative_to_date_time='BeforeOrOn'\n",
    "    )\n",
    ")"
   ]
  },
  {
   "cell_type": "code",
   "execution_count": 18,
   "metadata": {},
   "outputs": [
    {
     "data": {
      "text/plain": [
       "datetime.datetime(2021, 12, 9, 8, 27, 28, 507099, tzinfo=<UTC>)"
      ]
     },
     "execution_count": 18,
     "metadata": {},
     "output_type": "execute_result"
    }
   ],
   "source": [
    "(datetime.now(tz=pytz.utc) + timedelta(days=-15))"
   ]
  },
  {
   "cell_type": "code",
   "execution_count": 29,
   "metadata": {},
   "outputs": [
    {
     "data": {
      "text/plain": [
       "datetime.datetime(2021, 12, 24, 8, 46, 47, 90832, tzinfo=<UTC>)"
      ]
     },
     "execution_count": 29,
     "metadata": {},
     "output_type": "execute_result"
    }
   ],
   "source": [
    "(datetime.now(tz=pytz.utc) + timedelta(days=0))"
   ]
  },
  {
   "cell_type": "code",
   "execution_count": null,
   "metadata": {},
   "outputs": [],
   "source": []
  }
 ],
 "metadata": {
  "kernelspec": {
   "display_name": "Python 3 (ipykernel)",
   "language": "python",
   "name": "python3"
  },
  "language_info": {
   "codemirror_mode": {
    "name": "ipython",
    "version": 3
   },
   "file_extension": ".py",
   "mimetype": "text/x-python",
   "name": "python",
   "nbconvert_exporter": "python",
   "pygments_lexer": "ipython3",
   "version": "3.10.0"
  }
 },
 "nbformat": 4,
 "nbformat_minor": 4
}
