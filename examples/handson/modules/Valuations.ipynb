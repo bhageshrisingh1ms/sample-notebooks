{
 "cells": [
  {
   "cell_type": "code",
   "execution_count": 54,
   "id": "796e5549",
   "metadata": {},
   "outputs": [],
   "source": [
    "import os\n",
    "import json\n",
    "import uuid\n",
    "import pytz\n",
    "\n",
    "from datetime import datetime\n",
    "from collections import namedtuple\n",
    "\n",
    "import lusid\n",
    "import lusid.models as models\n",
    "\n",
    "from lusidjam import RefreshingToken\n",
    "\n",
    "LUSID_INSTRUMENT_IDENTIFIER = 'Instrument/default/LusidInstrumentId'\n",
    "\n",
    "secrets_path = '/Users/msingh/Projects/lusidws/secrets.json'\n",
    "\n",
    "api_factory = lusid.utilities.ApiClientFactory(\n",
    "    token=RefreshingToken(),\n",
    "    api_secrets_filename=secrets_path,\n",
    "    app_name=\"LusidJupyterNotebook\",\n",
    ")"
   ]
  },
  {
   "cell_type": "code",
   "execution_count": 55,
   "id": "2331ec0f",
   "metadata": {},
   "outputs": [],
   "source": [
    "instruments = [\n",
    "    {\"Figi\": \"BBG000C6K6G9\", \"Name\": \"VODAFONE GROUP PLC\"},\n",
    "    {\"Figi\": \"BBG000C04D57\", \"Name\": \"BARCLAYS PLC\"},\n",
    "    {\"Figi\": \"BBG000FV67Q4\", \"Name\": \"NATIONAL GRID PLC\"},\n",
    "    {\"Figi\": \"BBG000BF0KW3\", \"Name\": \"SAINSBURY (J) PLC\"},\n",
    "    {\"Figi\": \"BBG000BF4KL1\", \"Name\": \"TAYLOR WIMPEY PLC\"},\n",
    "]\n",
    "\n",
    "figis_to_create = { i['Figi']: models.InstrumentDefinition(name=i['Name'], identifiers={ 'Figi': models.InstrumentIdValue(value=i['Figi']) }) for i in instruments }\n",
    "\n",
    "instruments_api = api_factory.build(lusid.api.InstrumentsApi)\n",
    "upsert_response = instruments_api.upsert_instruments(\n",
    "    request_body=figis_to_create\n",
    ")\n",
    "\n",
    "if len(upsert_response.failed) != 0:\n",
    "    raise Exception(upsert_response.failed)\n",
    "    \n",
    "ids = instruments_api.get_instruments(\n",
    "    identifier_type='Figi', request_body=[i['Figi'] for i in instruments]\n",
    ")\n",
    "\n",
    "instrument_ids = [i.lusid_instrument_id for i in ids.values.values()]"
   ]
  },
  {
   "cell_type": "code",
   "execution_count": 56,
   "id": "8f96f8cf",
   "metadata": {},
   "outputs": [
    {
     "data": {
      "text/plain": [
       "['LUID_00003D69',\n",
       " 'LUID_00003D5X',\n",
       " 'LUID_00003D6A',\n",
       " 'LUID_00003D6B',\n",
       " 'LUID_00003D6C']"
      ]
     },
     "execution_count": 56,
     "metadata": {},
     "output_type": "execute_result"
    }
   ],
   "source": [
    "instrument_ids"
   ]
  },
  {
   "cell_type": "code",
   "execution_count": 58,
   "id": "2299a6bb",
   "metadata": {},
   "outputs": [],
   "source": [
    "def build_transaction(trade_spec):\n",
    "    return models.TransactionRequest(\n",
    "        transaction_id=str(uuid.uuid4()),\n",
    "        type='StockIn',\n",
    "        instrument_identifiers={LUSID_INSTRUMENT_IDENTIFIER: trade_spec.id},\n",
    "        transaction_date=trade_spec.trade_date,\n",
    "        settlement_date=trade_spec.trade_date,\n",
    "        units=100,\n",
    "        transaction_price=models.TransactionPrice(price=trade_spec.price),\n",
    "        total_consideration=models.CurrencyAndAmount(\n",
    "            amount=100*trade_spec.price, currency='GBP'\n",
    "        ),\n",
    "        source='Client'\n",
    "    )"
   ]
  },
  {
   "cell_type": "code",
   "execution_count": 59,
   "id": "8290a61a",
   "metadata": {},
   "outputs": [],
   "source": [
    "transactions_portfolio_api = api_factory.build(lusid.api.TransactionPortfoliosApi)\n",
    "quotes_api = api_factory.build(lusid.api.QuotesApi)\n",
    "configuration_recipe_api = api_factory.build(lusid.api.ConfigurationRecipeApi)\n",
    "aggregation_api = api_factory.build(lusid.api.AggregationApi)"
   ]
  },
  {
   "cell_type": "code",
   "execution_count": 60,
   "id": "bbb681cb",
   "metadata": {},
   "outputs": [
    {
     "name": "stdout",
     "output_type": "stream",
     "text": [
      "Could not create a portfolio with id 'valuationPortfolio' because it already exists in scope 'finbourne'.\n"
     ]
    }
   ],
   "source": [
    "scope = 'finbourne'\n",
    "portfolio_code = 'valuationPortfolio'\n",
    "effective_date = datetime(2018, 1, 1, tzinfo=pytz.utc)\n",
    "\n",
    "request = models.CreateTransactionPortfolioRequest(\n",
    "    display_name=portfolio_code,\n",
    "    code=portfolio_code,\n",
    "    base_currency='GBP',\n",
    "    created=effective_date,\n",
    ")\n",
    "\n",
    "try:\n",
    "\n",
    "    result = transactions_portfolio_api.create_portfolio(scope=scope, create_transaction_portfolio_request=request)\n",
    "\n",
    "except lusid.ApiException as e:\n",
    "    print(json.loads(e.body)['title'])"
   ]
  },
  {
   "cell_type": "code",
   "execution_count": 61,
   "id": "afd95071",
   "metadata": {},
   "outputs": [],
   "source": [
    "TransactionSpec = namedtuple(\"TransactionSpec\", \"id price trade_date\")\n",
    "transaction_specs = [\n",
    "    TransactionSpec(instrument_ids[0], 101, effective_date),\n",
    "    TransactionSpec(instrument_ids[1], 102, effective_date),\n",
    "    TransactionSpec(instrument_ids[2], 103, effective_date),\n",
    "]\n",
    "transaction_specs.sort(key=lambda ts: ts.id)\n",
    "\n",
    "new_transactions = list(map(build_transaction, transaction_specs))\n",
    "add_transactions_result = transactions_portfolio_api.upsert_transactions(\n",
    "    scope=scope, code=portfolio_code, transaction_request=new_transactions\n",
    ")"
   ]
  },
  {
   "cell_type": "code",
   "execution_count": 62,
   "id": "a3ab75f0",
   "metadata": {},
   "outputs": [],
   "source": [
    "instrument_quotes = {\n",
    "    instrument_ids[i]: models.UpsertQuoteRequest(\n",
    "        quote_id=models.QuoteId(\n",
    "            quote_series_id=models.QuoteSeriesId(\n",
    "                provider=\"DataScope\",\n",
    "                instrument_id=instrument_ids[i],\n",
    "                instrument_id_type=\"LusidInstrumentId\",\n",
    "                quote_type=\"Price\",\n",
    "                field=\"Mid\",\n",
    "            ),\n",
    "            effective_at=effective_date,\n",
    "        ),\n",
    "        metric_value=models.MetricValue(value=i * 100, unit=\"GBP\"),\n",
    "        lineage=\"InternalSystem\",\n",
    "    )\n",
    "    for i in range(1, 4)\n",
    "}\n",
    "\n",
    "response = quotes_api.upsert_quotes(scope=scope, request_body=instrument_quotes)"
   ]
  },
  {
   "cell_type": "code",
   "execution_count": 63,
   "id": "e3785e2d",
   "metadata": {},
   "outputs": [],
   "source": [
    "recipe_scope = 'valuations'\n",
    "recipe_code = 'market_value'\n",
    "\n",
    "configuration_recipe = models.ConfigurationRecipe(\n",
    "    scope=recipe_scope,\n",
    "    code=recipe_code,\n",
    "    market=models.MarketContext(\n",
    "        market_rules=[\n",
    "            models.MarketDataKeyRule(\n",
    "                key=\"Equity.LusidInstrumentId.*\",\n",
    "                supplier=\"DataScope\",\n",
    "                data_scope=scope,\n",
    "                quote_type=\"Price\",\n",
    "                field=\"Mid\",\n",
    "            )\n",
    "        ],\n",
    "        suppliers=models.MarketContextSuppliers(\n",
    "            commodity='DataScope',\n",
    "            credit='DataScope',\n",
    "            equity='DataScope',\n",
    "            fx='DataScope',\n",
    "            rates='DataScope',\n",
    "        ),\n",
    "        options=models.MarketOptions(\n",
    "            default_supplier='DataScope',\n",
    "            default_instrument_code_type='LusidInstrumentId',\n",
    "            default_scope=scope,\n",
    "        )\n",
    "    )\n",
    ")\n",
    "\n",
    "upsert_configuration_recipe_response = configuration_recipe_api.upsert_configuration_recipe(\n",
    "    upsert_recipe_request=models.UpsertRecipeRequest(\n",
    "        configuration_recipe=configuration_recipe\n",
    "    )\n",
    ")"
   ]
  },
  {
   "cell_type": "code",
   "execution_count": 64,
   "id": "47eec2dd",
   "metadata": {},
   "outputs": [],
   "source": [
    "valuation_request = models.ValuationRequest(\n",
    "    recipe_id=models.ResourceId(scope=recipe_scope, code=recipe_code),\n",
    "    metrics=[\n",
    "        models.AggregateSpec('Instrument/default/Name', 'Value'),\n",
    "        models.AggregateSpec('Holding/default/PV', 'Proportion'),\n",
    "        models.AggregateSpec('Holding/default/PV', 'Sum'),\n",
    "    ],\n",
    "    group_by=['Instrument/default/Name'],\n",
    "    portfolio_entity_ids=[\n",
    "        models.PortfolioEntityId(scope=scope, code='valuationPortfolio')\n",
    "    ],\n",
    "    valuation_schedule=models.ValuationSchedule(\n",
    "        effective_at=effective_date.isoformat()\n",
    "    ),\n",
    ")\n",
    "\n",
    "valuation = aggregation_api.get_valuation(valuation_request=valuation_request)"
   ]
  },
  {
   "cell_type": "code",
   "execution_count": 65,
   "id": "9d3bf8b6",
   "metadata": {},
   "outputs": [
    {
     "name": "stdout",
     "output_type": "stream",
     "text": [
      "\tVODAFONE GROUP PLC\t0.1111111111111111\t40000.0\n",
      "\tSAINSBURY (J) PLC\t0.3333333333333333\t120000.0\n",
      "\tNATIONAL GRID PLC\t0.3333333333333333\t120000.0\n",
      "\tBARCLAYS PLC\t0.0\t0.0\n",
      "\tTAYLOR WIMPEY PLC\t0.2222222222222222\t80000.0\n"
     ]
    }
   ],
   "source": [
    "for item in valuation.data:\n",
    "    print('\\t{}\\t{}\\t{}'.format(\n",
    "        item['Instrument/default/Name'], \n",
    "        item['Proportion(Holding/default/PV)'],\n",
    "        item['Sum(Holding/default/PV)'],\n",
    "    ))"
   ]
  },
  {
   "cell_type": "code",
   "execution_count": 66,
   "id": "04ff581c",
   "metadata": {},
   "outputs": [],
   "source": [
    "%matplotlib inline\n",
    "import matplotlib.pyplot as plt\n",
    "\n",
    "labels = []\n",
    "values = []\n",
    "\n",
    "for item in valuation.data:\n",
    "    labels.append(item['Instrument/default/Name'])\n",
    "    values.append(item['Proportion(Holding/default/PV)'] * 100)"
   ]
  },
  {
   "cell_type": "code",
   "execution_count": 67,
   "id": "99152c37",
   "metadata": {},
   "outputs": [
    {
     "ename": "TypeError",
     "evalue": "can't multiply sequence by non-int of type 'float'",
     "output_type": "error",
     "traceback": [
      "\u001b[0;31m---------------------------------------------------------------------------\u001b[0m",
      "\u001b[0;31mTypeError\u001b[0m                                 Traceback (most recent call last)",
      "\u001b[0;32m/var/folders/cm/flnk57y92cx3_pgc9s48_9w80000gn/T/ipykernel_5313/3520657613.py\u001b[0m in \u001b[0;36m<module>\u001b[0;34m\u001b[0m\n\u001b[1;32m      1\u001b[0m \u001b[0mfig1\u001b[0m\u001b[0;34m,\u001b[0m \u001b[0max1\u001b[0m \u001b[0;34m=\u001b[0m \u001b[0mplt\u001b[0m\u001b[0;34m.\u001b[0m\u001b[0msubplots\u001b[0m\u001b[0;34m(\u001b[0m\u001b[0;34m)\u001b[0m\u001b[0;34m\u001b[0m\u001b[0;34m\u001b[0m\u001b[0m\n\u001b[0;32m----> 2\u001b[0;31m \u001b[0max1\u001b[0m\u001b[0;34m.\u001b[0m\u001b[0mpie\u001b[0m\u001b[0;34m(\u001b[0m\u001b[0mvalues\u001b[0m\u001b[0;34m,\u001b[0m \u001b[0mlabels\u001b[0m\u001b[0;34m,\u001b[0m \u001b[0mautopct\u001b[0m\u001b[0;34m=\u001b[0m\u001b[0;34m\"%1.1f%%\"\u001b[0m\u001b[0;34m,\u001b[0m \u001b[0mshadow\u001b[0m\u001b[0;34m=\u001b[0m\u001b[0;32mTrue\u001b[0m\u001b[0;34m,\u001b[0m \u001b[0mstartangle\u001b[0m\u001b[0;34m=\u001b[0m\u001b[0;36m90\u001b[0m\u001b[0;34m)\u001b[0m\u001b[0;34m\u001b[0m\u001b[0;34m\u001b[0m\u001b[0m\n\u001b[0m\u001b[1;32m      3\u001b[0m \u001b[0max1\u001b[0m\u001b[0;34m.\u001b[0m\u001b[0maxis\u001b[0m\u001b[0;34m(\u001b[0m\u001b[0;34m'equal'\u001b[0m\u001b[0;34m)\u001b[0m\u001b[0;34m\u001b[0m\u001b[0;34m\u001b[0m\u001b[0m\n\u001b[1;32m      4\u001b[0m \u001b[0;34m\u001b[0m\u001b[0m\n\u001b[1;32m      5\u001b[0m \u001b[0mplt\u001b[0m\u001b[0;34m.\u001b[0m\u001b[0mshow\u001b[0m\u001b[0;34m(\u001b[0m\u001b[0;34m)\u001b[0m\u001b[0;34m\u001b[0m\u001b[0;34m\u001b[0m\u001b[0m\n",
      "\u001b[0;32m~/Projects/lusidws/sample-notebooks/.venv/lib/python3.10/site-packages/matplotlib/__init__.py\u001b[0m in \u001b[0;36minner\u001b[0;34m(ax, data, *args, **kwargs)\u001b[0m\n\u001b[1;32m   1410\u001b[0m     \u001b[0;32mdef\u001b[0m \u001b[0minner\u001b[0m\u001b[0;34m(\u001b[0m\u001b[0max\u001b[0m\u001b[0;34m,\u001b[0m \u001b[0;34m*\u001b[0m\u001b[0margs\u001b[0m\u001b[0;34m,\u001b[0m \u001b[0mdata\u001b[0m\u001b[0;34m=\u001b[0m\u001b[0;32mNone\u001b[0m\u001b[0;34m,\u001b[0m \u001b[0;34m**\u001b[0m\u001b[0mkwargs\u001b[0m\u001b[0;34m)\u001b[0m\u001b[0;34m:\u001b[0m\u001b[0;34m\u001b[0m\u001b[0;34m\u001b[0m\u001b[0m\n\u001b[1;32m   1411\u001b[0m         \u001b[0;32mif\u001b[0m \u001b[0mdata\u001b[0m \u001b[0;32mis\u001b[0m \u001b[0;32mNone\u001b[0m\u001b[0;34m:\u001b[0m\u001b[0;34m\u001b[0m\u001b[0;34m\u001b[0m\u001b[0m\n\u001b[0;32m-> 1412\u001b[0;31m             \u001b[0;32mreturn\u001b[0m \u001b[0mfunc\u001b[0m\u001b[0;34m(\u001b[0m\u001b[0max\u001b[0m\u001b[0;34m,\u001b[0m \u001b[0;34m*\u001b[0m\u001b[0mmap\u001b[0m\u001b[0;34m(\u001b[0m\u001b[0msanitize_sequence\u001b[0m\u001b[0;34m,\u001b[0m \u001b[0margs\u001b[0m\u001b[0;34m)\u001b[0m\u001b[0;34m,\u001b[0m \u001b[0;34m**\u001b[0m\u001b[0mkwargs\u001b[0m\u001b[0;34m)\u001b[0m\u001b[0;34m\u001b[0m\u001b[0;34m\u001b[0m\u001b[0m\n\u001b[0m\u001b[1;32m   1413\u001b[0m \u001b[0;34m\u001b[0m\u001b[0m\n\u001b[1;32m   1414\u001b[0m         \u001b[0mbound\u001b[0m \u001b[0;34m=\u001b[0m \u001b[0mnew_sig\u001b[0m\u001b[0;34m.\u001b[0m\u001b[0mbind\u001b[0m\u001b[0;34m(\u001b[0m\u001b[0max\u001b[0m\u001b[0;34m,\u001b[0m \u001b[0;34m*\u001b[0m\u001b[0margs\u001b[0m\u001b[0;34m,\u001b[0m \u001b[0;34m**\u001b[0m\u001b[0mkwargs\u001b[0m\u001b[0;34m)\u001b[0m\u001b[0;34m\u001b[0m\u001b[0;34m\u001b[0m\u001b[0m\n",
      "\u001b[0;32m~/Projects/lusidws/sample-notebooks/.venv/lib/python3.10/site-packages/matplotlib/axes/_axes.py\u001b[0m in \u001b[0;36mpie\u001b[0;34m(self, x, explode, labels, colors, autopct, pctdistance, shadow, labeldistance, startangle, radius, counterclock, wedgeprops, textprops, center, frame, rotatelabels, normalize)\u001b[0m\n\u001b[1;32m   3089\u001b[0m             \u001b[0mtheta2\u001b[0m \u001b[0;34m=\u001b[0m \u001b[0;34m(\u001b[0m\u001b[0mtheta1\u001b[0m \u001b[0;34m+\u001b[0m \u001b[0mfrac\u001b[0m\u001b[0;34m)\u001b[0m \u001b[0;32mif\u001b[0m \u001b[0mcounterclock\u001b[0m \u001b[0;32melse\u001b[0m \u001b[0;34m(\u001b[0m\u001b[0mtheta1\u001b[0m \u001b[0;34m-\u001b[0m \u001b[0mfrac\u001b[0m\u001b[0;34m)\u001b[0m\u001b[0;34m\u001b[0m\u001b[0;34m\u001b[0m\u001b[0m\n\u001b[1;32m   3090\u001b[0m             \u001b[0mthetam\u001b[0m \u001b[0;34m=\u001b[0m \u001b[0;36m2\u001b[0m \u001b[0;34m*\u001b[0m \u001b[0mnp\u001b[0m\u001b[0;34m.\u001b[0m\u001b[0mpi\u001b[0m \u001b[0;34m*\u001b[0m \u001b[0;36m0.5\u001b[0m \u001b[0;34m*\u001b[0m \u001b[0;34m(\u001b[0m\u001b[0mtheta1\u001b[0m \u001b[0;34m+\u001b[0m \u001b[0mtheta2\u001b[0m\u001b[0;34m)\u001b[0m\u001b[0;34m\u001b[0m\u001b[0;34m\u001b[0m\u001b[0m\n\u001b[0;32m-> 3091\u001b[0;31m             \u001b[0mx\u001b[0m \u001b[0;34m+=\u001b[0m \u001b[0mexpl\u001b[0m \u001b[0;34m*\u001b[0m \u001b[0mmath\u001b[0m\u001b[0;34m.\u001b[0m\u001b[0mcos\u001b[0m\u001b[0;34m(\u001b[0m\u001b[0mthetam\u001b[0m\u001b[0;34m)\u001b[0m\u001b[0;34m\u001b[0m\u001b[0;34m\u001b[0m\u001b[0m\n\u001b[0m\u001b[1;32m   3092\u001b[0m             \u001b[0my\u001b[0m \u001b[0;34m+=\u001b[0m \u001b[0mexpl\u001b[0m \u001b[0;34m*\u001b[0m \u001b[0mmath\u001b[0m\u001b[0;34m.\u001b[0m\u001b[0msin\u001b[0m\u001b[0;34m(\u001b[0m\u001b[0mthetam\u001b[0m\u001b[0;34m)\u001b[0m\u001b[0;34m\u001b[0m\u001b[0;34m\u001b[0m\u001b[0m\n\u001b[1;32m   3093\u001b[0m \u001b[0;34m\u001b[0m\u001b[0m\n",
      "\u001b[0;31mTypeError\u001b[0m: can't multiply sequence by non-int of type 'float'"
     ]
    },
    {
     "data": {
      "image/png": "[encoded data removed]",
      "text/plain": [
       "<Figure size 432x288 with 1 Axes>"
      ]
     },
     "metadata": {
      "needs_background": "light"
     },
     "output_type": "display_data"
    }
   ],
   "source": [
    "fig1, ax1 = plt.subplots()\n",
    "ax1.pie(values, labels, autopct=\"%1.1f%%\", shadow=True, startangle=90)\n",
    "ax1.axis('equal')\n",
    "\n",
    "plt.show()"
   ]
  },
  {
   "cell_type": "code",
   "execution_count": null,
   "id": "bf5042bd",
   "metadata": {},
   "outputs": [],
   "source": []
  },
  {
   "cell_type": "code",
   "execution_count": null,
   "id": "5973e369",
   "metadata": {},
   "outputs": [],
   "source": []
  },
  {
   "cell_type": "code",
   "execution_count": null,
   "id": "0b756f2d",
   "metadata": {},
   "outputs": [],
   "source": []
  },
  {
   "cell_type": "code",
   "execution_count": null,
   "id": "7fbd7bb6",
   "metadata": {},
   "outputs": [],
   "source": []
  },
  {
   "cell_type": "code",
   "execution_count": null,
   "id": "89991c97",
   "metadata": {},
   "outputs": [],
   "source": []
  },
  {
   "cell_type": "code",
   "execution_count": null,
   "id": "b903134c",
   "metadata": {},
   "outputs": [],
   "source": []
  },
  {
   "cell_type": "code",
   "execution_count": null,
   "id": "ee5c7e42",
   "metadata": {},
   "outputs": [],
   "source": []
  }
 ],
 "metadata": {
  "kernelspec": {
   "display_name": "Python 3 (ipykernel)",
   "language": "python",
   "name": "python3"
  },
  "language_info": {
   "codemirror_mode": {
    "name": "ipython",
    "version": 3
   },
   "file_extension": ".py",
   "mimetype": "text/x-python",
   "name": "python",
   "nbconvert_exporter": "python",
   "pygments_lexer": "ipython3",
   "version": "3.10.0"
  }
 },
 "nbformat": 4,
 "nbformat_minor": 5
}
