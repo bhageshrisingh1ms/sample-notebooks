{
 "cells": [
  {
   "cell_type": "markdown",
   "id": "e66278a1",
   "metadata": {},
   "source": [
    "# Holdings from multiple systems"
   ]
  },
  {
   "cell_type": "code",
   "execution_count": 129,
   "id": "ea345022",
   "metadata": {},
   "outputs": [
    {
     "data": {
      "text/html": [
       "<style>.container { width:90% !important; }</style>"
      ],
      "text/plain": [
       "<IPython.core.display.HTML object>"
      ]
     },
     "metadata": {},
     "output_type": "display_data"
    }
   ],
   "source": [
    "import os\n",
    "import math\n",
    "import json\n",
    "import pytz\n",
    "\n",
    "from datetime import datetime, timedelta\n",
    "from typing import List, Tuple, Dict\n",
    "from collections import namedtuple\n",
    "\n",
    "import lusid\n",
    "import pandas as pd\n",
    "\n",
    "from lusid import models as models\n",
    "from lusidjam import RefreshingToken\n",
    "from lusidtools.pandas_utils.lusid_pandas import lusid_response_to_data_frame\n",
    "from IPython.core.display import HTML\n",
    "\n",
    "pd.set_option('display.max_columns', None)\n",
    "pd.set_option('display.max_rows', None)\n",
    "pd.options.display.float_format = \"{:,.2f}\".format\n",
    "display(HTML(\"<style>.container { width:90% !important; }</style>\"))\n",
    "\n",
    "secrets_path = '/Users/msingh/Projects/lusidws/secrets.json'\n",
    "\n",
    "api_factory = lusid.utilities.ApiClientFactory(\n",
    "    token=RefreshingToken(),\n",
    "    api_secrets_filename=secrets_path,\n",
    "    app_name=\"LusidJupyterNotebook\",\n",
    ")"
   ]
  },
  {
   "cell_type": "code",
   "execution_count": 130,
   "id": "ee45169a",
   "metadata": {},
   "outputs": [],
   "source": [
    "portfolios_api = api_factory.build(lusid.api.PortfoliosApi)\n",
    "transactions_api = api_factory.build(lusid.api.TransactionPortfoliosApi)\n",
    "properties_api = api_factory.build(lusid.api.PropertyDefinitionsApi)"
   ]
  },
  {
   "cell_type": "markdown",
   "id": "f13a130e",
   "metadata": {},
   "source": [
    "## 1. Create portfolios"
   ]
  },
  {
   "cell_type": "code",
   "execution_count": 131,
   "id": "e457b00e",
   "metadata": {},
   "outputs": [],
   "source": [
    "from lusid.exceptions import ApiException\n",
    "\n",
    "def check_portfolio(scope, code):\n",
    "    try:\n",
    "        portfolios_api.delete_portfolio(scope=scope, code=code)\n",
    "        return 'Portfolio successfully deleted'\n",
    "    except ApiException as e:\n",
    "        return 'Portfolio does not yet exist'"
   ]
  },
  {
   "cell_type": "code",
   "execution_count": 132,
   "id": "6634d0a5",
   "metadata": {},
   "outputs": [],
   "source": [
    "from datetime import date\n",
    "import lusid.models as lm\n",
    "\n",
    "def create_portfolio(portfolio_code, scope='', display_name='', base_currency='GBP'):\n",
    "    check_portfolio(scope=scope, code=portfolio_code)\n",
    "    request = lm.CreateTransactionPortfolioRequest(\n",
    "        display_name=display_name,\n",
    "        code=portfolio_code,\n",
    "        base_currency=base_currency,\n",
    "        created=str(date(2021, 10, 10)))\n",
    "    \n",
    "    try:\n",
    "        result = transactions_api.create_portfolio(\n",
    "            scope=scope,\n",
    "            create_transaction_portfolio_request=request)\n",
    "        return result\n",
    "    except ApiException as e:\n",
    "        display(json.loads(e.body)['title'])"
   ]
  },
  {
   "cell_type": "code",
   "execution_count": 133,
   "id": "2d937115",
   "metadata": {},
   "outputs": [],
   "source": [
    "port_1250_response = create_portfolio('1350', scope='Bleugrain', display_name='Portfolio 1350', base_currency='GBP')\n",
    "port_1232_response = create_portfolio('1332', scope='Bleugrain', display_name='Portfolio 1332', base_currency='GBP')\n",
    "port_6350_response = create_portfolio('6450', scope='Bleugrain', display_name='Portfolio 6450', base_currency='GBP')"
   ]
  },
  {
   "cell_type": "markdown",
   "id": "e7e23450",
   "metadata": {},
   "source": [
    "## 3. Create instruments"
   ]
  },
  {
   "cell_type": "code",
   "execution_count": 134,
   "id": "b0d1c050",
   "metadata": {},
   "outputs": [],
   "source": [
    "instruments_api = api_factory.build(lusid.api.InstrumentsApi)"
   ]
  },
  {
   "cell_type": "code",
   "execution_count": 135,
   "id": "25d1c7b2",
   "metadata": {},
   "outputs": [
    {
     "data": {
      "text/plain": [
       "['LUID_00003D6R',\n",
       " 'LUID_00003D6U',\n",
       " 'LUID_00003D6V',\n",
       " 'LUID_00003D6W',\n",
       " 'LUID_00003D6X']"
      ]
     },
     "execution_count": 135,
     "metadata": {},
     "output_type": "execute_result"
    }
   ],
   "source": [
    "InstrumentSpec = namedtuple('InstrumentSpec', ['Figi', 'Name'])\n",
    "\n",
    "instruments = [\n",
    "    InstrumentSpec(\"BBG000FD8G46\", \"HISCOX LTD\"),\n",
    "    InstrumentSpec(\"BBG000DW76R4\", \"ITV PLC\"),\n",
    "    InstrumentSpec(\"BBG000PQKVN8\", \"MONDI PLC\"),\n",
    "    InstrumentSpec(\"BBG000BDWPY0\", \"NEXT PLC\"),\n",
    "    InstrumentSpec(\"BBG000BF46Y8\", \"TESCO PLC\"),\n",
    "]\n",
    "\n",
    "instruments_to_create = {\n",
    "    i.Figi: models.InstrumentDefinition(\n",
    "        name=i.Name, identifiers={ 'Figi': models.InstrumentIdValue(value=i.Figi) }\n",
    "    ) for i in instruments\n",
    "}\n",
    "\n",
    "response = instruments_api.upsert_instruments(request_body=instruments_to_create)\n",
    "\n",
    "instrument_ids = sorted([i.lusid_instrument_id for i in response.values.values()])\n",
    "instrument_ids"
   ]
  },
  {
   "cell_type": "markdown",
   "id": "6e300fb6",
   "metadata": {},
   "source": [
    "## 4. Create transactions"
   ]
  },
  {
   "cell_type": "code",
   "execution_count": 136,
   "id": "aa0482ff",
   "metadata": {},
   "outputs": [],
   "source": [
    "import random\n",
    "\n",
    "transactions = [\n",
    "    models.TransactionRequest(\n",
    "        transaction_id=f'TransactionId_{_id}',\n",
    "        type='Buy',\n",
    "        instrument_identifiers={ 'Instrument/default/LusidInstrumentId': _id },\n",
    "        transaction_date=datetime.now(pytz.UTC).isoformat(),\n",
    "        settlement_date=(datetime.now(pytz.UTC) + timedelta(days=2)).isoformat(),\n",
    "        units=math.floor(random.random() * 100),\n",
    "        total_consideration=lusid.CurrencyAndAmount(\n",
    "            math.floor(random.random() * 1000), 'GBP')\n",
    "    )\n",
    "    for _id in instrument_ids\n",
    "]"
   ]
  },
  {
   "cell_type": "code",
   "execution_count": 137,
   "id": "0cdd98ab",
   "metadata": {},
   "outputs": [],
   "source": [
    "scope = 'Bleugrain'\n",
    "portfolio_code = '1350'\n",
    "\n",
    "# response = transactions_api.upsert_transactions(\n",
    "#    scope, portfolio_code, transactions\n",
    "# )"
   ]
  },
  {
   "cell_type": "markdown",
   "id": "e6da7cbc",
   "metadata": {},
   "source": [
    "## 5. Add property definitions"
   ]
  },
  {
   "cell_type": "code",
   "execution_count": 138,
   "id": "9a7acacc",
   "metadata": {},
   "outputs": [],
   "source": [
    "def create_property(code, domain='Transaction', scope='default', required=False):\n",
    "    try:\n",
    "        properties_api.create_property_definition(\n",
    "            create_property_definition_request=models.CreatePropertyDefinitionRequest(\n",
    "                domain=domain,\n",
    "                scope=scope,\n",
    "                code=code,\n",
    "                display_name=code,\n",
    "                life_time='Perpetual',\n",
    "                value_required=required,\n",
    "                data_type_id=models.resource_id.ResourceId(\n",
    "                    scope='system',\n",
    "                    code='string',\n",
    "                )\n",
    "            )\n",
    "        )\n",
    "    \n",
    "    except ApiException as e:\n",
    "        detail = json.loads(e.body)\n",
    "        print(detail)\n",
    "        if detail['code'] != 124:\n",
    "            raise e"
   ]
  },
  {
   "cell_type": "code",
   "execution_count": 139,
   "id": "94016e02",
   "metadata": {},
   "outputs": [],
   "source": [
    "property_domain = 'Holding'\n",
    "\n",
    "common_scope = 'common'\n",
    "ps_scope = 'ps'\n",
    "crims_scope = 'crims'\n",
    "\n",
    "default_properties = ['A', 'B']\n",
    "ps_properties = ['C', 'D']\n",
    "crims_properties = ['E', 'F']"
   ]
  },
  {
   "cell_type": "code",
   "execution_count": 140,
   "id": "af2762f4",
   "metadata": {},
   "outputs": [
    {
     "name": "stdout",
     "output_type": "stream",
     "text": [
      "{'name': 'PropertyAlreadyExists', 'errorDetails': [], 'code': 124, 'type': 'https://docs.lusid.com/#section/Error-Codes/124', 'title': \"Error creating Property Definition 'Holding/common/A' because it already exists.\", 'status': 400, 'detail': \"Error creating Property Definition 'Holding/common/A' because it already exists.\", 'instance': 'https://bleugrain.lusid.com/app/insights/logs/0HMEB1IH10EUD:00000007', 'extensions': {}}\n",
      "{'name': 'PropertyAlreadyExists', 'errorDetails': [], 'code': 124, 'type': 'https://docs.lusid.com/#section/Error-Codes/124', 'title': \"Error creating Property Definition 'Holding/common/B' because it already exists.\", 'status': 400, 'detail': \"Error creating Property Definition 'Holding/common/B' because it already exists.\", 'instance': 'https://bleugrain.lusid.com/app/insights/logs/0HMEB1IR0J1DD:00000004', 'extensions': {}}\n",
      "{'name': 'PropertyAlreadyExists', 'errorDetails': [], 'code': 124, 'type': 'https://docs.lusid.com/#section/Error-Codes/124', 'title': \"Error creating Property Definition 'Holding/ps/C' because it already exists.\", 'status': 400, 'detail': \"Error creating Property Definition 'Holding/ps/C' because it already exists.\", 'instance': 'https://bleugrain.lusid.com/app/insights/logs/0HMEB0UO6GVM2:00000003', 'extensions': {}}\n",
      "{'name': 'PropertyAlreadyExists', 'errorDetails': [], 'code': 124, 'type': 'https://docs.lusid.com/#section/Error-Codes/124', 'title': \"Error creating Property Definition 'Holding/ps/D' because it already exists.\", 'status': 400, 'detail': \"Error creating Property Definition 'Holding/ps/D' because it already exists.\", 'instance': 'https://bleugrain.lusid.com/app/insights/logs/0HMEB0U5S3BJ7:00000009', 'extensions': {}}\n",
      "{'name': 'PropertyAlreadyExists', 'errorDetails': [], 'code': 124, 'type': 'https://docs.lusid.com/#section/Error-Codes/124', 'title': \"Error creating Property Definition 'Holding/crims/E' because it already exists.\", 'status': 400, 'detail': \"Error creating Property Definition 'Holding/crims/E' because it already exists.\", 'instance': 'https://bleugrain.lusid.com/app/insights/logs/0HMEB0U5S3BJ7:0000000A', 'extensions': {}}\n",
      "{'name': 'PropertyAlreadyExists', 'errorDetails': [], 'code': 124, 'type': 'https://docs.lusid.com/#section/Error-Codes/124', 'title': \"Error creating Property Definition 'Holding/crims/F' because it already exists.\", 'status': 400, 'detail': \"Error creating Property Definition 'Holding/crims/F' because it already exists.\", 'instance': 'https://bleugrain.lusid.com/app/insights/logs/0HMEB1IH10EUD:00000008', 'extensions': {}}\n"
     ]
    }
   ],
   "source": [
    "# create default properties common to PS and CRIMS\n",
    "create_property(default_properties[0], domain=property_domain, scope=common_scope, required=True)\n",
    "create_property(default_properties[1], domain=property_domain, scope=common_scope, required=True)\n",
    "\n",
    "create_property(ps_properties[0], domain=property_domain, scope=ps_scope)\n",
    "create_property(ps_properties[1], domain=property_domain, scope=ps_scope)\n",
    "\n",
    "create_property(crims_properties[0], domain=property_domain, scope=crims_scope)\n",
    "create_property(crims_properties[1], domain=property_domain, scope=crims_scope)"
   ]
  },
  {
   "cell_type": "markdown",
   "id": "b1d2b92a",
   "metadata": {},
   "source": [
    "## Set/Adjust holdings"
   ]
  },
  {
   "cell_type": "code",
   "execution_count": 141,
   "id": "9efe4c58",
   "metadata": {},
   "outputs": [],
   "source": [
    "def set_holdings(portfolio_code, instrument_identifier, units, amount, properties, scope='Bleugrain'):\n",
    "    current_datetime = datetime.now(pytz.UTC)\n",
    "    print(f'Current Time: {current_datetime}')\n",
    "    \n",
    "    adjust_holding_request = models.AdjustHoldingRequest(\n",
    "        instrument_identifiers={\n",
    "            'Instrument/default/Figi': instrument_identifier\n",
    "        },\n",
    "        properties=properties,\n",
    "        tax_lots=[\n",
    "            models.TargetTaxLotRequest(\n",
    "                units=units,\n",
    "                cost=models.CurrencyAndAmount(amount=amount, currency='GBP'),\n",
    "                portfolio_cost=amount,\n",
    "                price=math.floor(amount/units),\n",
    "                purchase_date=current_datetime.isoformat(),\n",
    "                settlement_date=(current_datetime + timedelta(days=2)).isoformat(),\n",
    "            )\n",
    "        ],\n",
    "        currency='GBP'\n",
    "    )\n",
    "    transactions_api.set_holdings(scope, \n",
    "                                  portfolio_code, \n",
    "                                  effective_at=datetime.now(pytz.UTC).isoformat(), \n",
    "                                  adjust_holding_request=[adjust_holding_request])"
   ]
  },
  {
   "cell_type": "code",
   "execution_count": 142,
   "id": "cbb95d8c",
   "metadata": {},
   "outputs": [
    {
     "name": "stdout",
     "output_type": "stream",
     "text": [
      "Current Time: 2021-12-30 05:00:50.150474+00:00\n"
     ]
    }
   ],
   "source": [
    "properties = {\n",
    "    'Holding/common/A': models.PerpetualProperty('Holding/common/A', \n",
    "                                                 models.PropertyValue(label_value='A_Value')),\n",
    "    'Holding/common/B': models.PerpetualProperty('Holding/common/B', \n",
    "                                                 models.PropertyValue(label_value='B_Value')),\n",
    "    'Holding/ps/C': models.PerpetualProperty('Holding/ps/C', \n",
    "                                             models.PropertyValue(label_value='C_Value')),\n",
    "    'Holding/ps/D': models.PerpetualProperty('Holding/ps/D', \n",
    "                                             models.PropertyValue(label_value='D_Value')),\n",
    "}\n",
    "\n",
    "set_holdings(portfolio_code, 'BBG000FD8G46', 24000, 960000, properties)"
   ]
  },
  {
   "cell_type": "code",
   "execution_count": 143,
   "id": "d5b85b11",
   "metadata": {},
   "outputs": [
    {
     "data": {
      "text/html": [
       "<div>\n",
       "<style scoped>\n",
       "    .dataframe tbody tr th:only-of-type {\n",
       "        vertical-align: middle;\n",
       "    }\n",
       "\n",
       "    .dataframe tbody tr th {\n",
       "        vertical-align: top;\n",
       "    }\n",
       "\n",
       "    .dataframe thead th {\n",
       "        text-align: right;\n",
       "    }\n",
       "</style>\n",
       "<table border=\"1\" class=\"dataframe\">\n",
       "  <thead>\n",
       "    <tr style=\"text-align: right;\">\n",
       "      <th></th>\n",
       "      <th>instrument_scope</th>\n",
       "      <th>instrument_uid</th>\n",
       "      <th>sub_holding_keys</th>\n",
       "      <th>A(common-Properties)</th>\n",
       "      <th>B(common-Properties)</th>\n",
       "      <th>C(ps-Properties)</th>\n",
       "      <th>D(ps-Properties)</th>\n",
       "      <th>SourcePortfolioId(default-Properties)</th>\n",
       "      <th>SourcePortfolioScope(default-Properties)</th>\n",
       "      <th>holding_type</th>\n",
       "      <th>units</th>\n",
       "      <th>settled_units</th>\n",
       "      <th>cost.amount</th>\n",
       "      <th>cost.currency</th>\n",
       "      <th>cost_portfolio_ccy.amount</th>\n",
       "      <th>cost_portfolio_ccy.currency</th>\n",
       "      <th>currency</th>\n",
       "    </tr>\n",
       "  </thead>\n",
       "  <tbody>\n",
       "    <tr>\n",
       "      <th>0</th>\n",
       "      <td>default</td>\n",
       "      <td>LUID_00003D6V</td>\n",
       "      <td>{}</td>\n",
       "      <td>A_Value</td>\n",
       "      <td>B_Value</td>\n",
       "      <td>C_Value</td>\n",
       "      <td>D_Value</td>\n",
       "      <td>1350</td>\n",
       "      <td>Bleugrain</td>\n",
       "      <td>P</td>\n",
       "      <td>24,000.00</td>\n",
       "      <td>24,000.00</td>\n",
       "      <td>960,000.00</td>\n",
       "      <td>GBP</td>\n",
       "      <td>960,000.00</td>\n",
       "      <td>GBP</td>\n",
       "      <td>GBP</td>\n",
       "    </tr>\n",
       "  </tbody>\n",
       "</table>\n",
       "</div>"
      ],
      "text/plain": [
       "  instrument_scope instrument_uid sub_holding_keys A(common-Properties)  \\\n",
       "0          default  LUID_00003D6V               {}              A_Value   \n",
       "\n",
       "  B(common-Properties) C(ps-Properties) D(ps-Properties)  \\\n",
       "0              B_Value          C_Value          D_Value   \n",
       "\n",
       "  SourcePortfolioId(default-Properties)  \\\n",
       "0                                  1350   \n",
       "\n",
       "  SourcePortfolioScope(default-Properties) holding_type     units  \\\n",
       "0                                Bleugrain            P 24,000.00   \n",
       "\n",
       "   settled_units  cost.amount cost.currency  cost_portfolio_ccy.amount  \\\n",
       "0      24,000.00   960,000.00           GBP                 960,000.00   \n",
       "\n",
       "  cost_portfolio_ccy.currency currency  \n",
       "0                         GBP      GBP  "
      ]
     },
     "execution_count": 143,
     "metadata": {},
     "output_type": "execute_result"
    }
   ],
   "source": [
    "holdings_response = transactions_api.get_holdings(scope, portfolio_code)\n",
    "lusid_response_to_data_frame(\n",
    "    holdings_response,\n",
    "    rename_properties=True\n",
    ")"
   ]
  },
  {
   "cell_type": "code",
   "execution_count": 144,
   "id": "47790612",
   "metadata": {},
   "outputs": [],
   "source": [
    "def adjust_holdings(portfolio_code, instrument_identifier, units, amount, properties, scope='Bleugrain'):\n",
    "    current_datetime = datetime.now(pytz.UTC)\n",
    "    print(f'Current Time: {current_datetime}')\n",
    "    adjust_holding_request = models.AdjustHoldingRequest(\n",
    "        instrument_identifiers={\n",
    "            'Instrument/default/Figi': instrument_identifier\n",
    "        },\n",
    "        properties=properties,\n",
    "        tax_lots=[\n",
    "            models.TargetTaxLotRequest(\n",
    "                units=units,\n",
    "                cost=models.CurrencyAndAmount(amount=amount, currency='GBP'),\n",
    "                portfolio_cost=amount,\n",
    "                price=math.floor(amount/units),\n",
    "                purchase_date=current_datetime.isoformat(),\n",
    "                settlement_date=(current_datetime + timedelta(days=2)).isoformat(),\n",
    "            )\n",
    "        ],\n",
    "        currency='GBP'\n",
    "    )\n",
    "    \n",
    "    try:\n",
    "        transactions_api.adjust_holdings(scope, \n",
    "                                  portfolio_code, \n",
    "                                  effective_at=datetime.now(pytz.UTC).isoformat(), \n",
    "                                  adjust_holding_request=[adjust_holding_request])\n",
    "    except ApiException as e:\n",
    "        raise e"
   ]
  },
  {
   "cell_type": "code",
   "execution_count": 145,
   "id": "ae75ec82",
   "metadata": {},
   "outputs": [
    {
     "name": "stdout",
     "output_type": "stream",
     "text": [
      "Current Time: 2021-12-30 05:01:32.584643+00:00\n"
     ]
    }
   ],
   "source": [
    "properties = {\n",
    "    'Holding/common/A': models.PerpetualProperty('Holding/common/A', \n",
    "                                                 models.PropertyValue(label_value='A_Value')),\n",
    "    'Holding/common/B': models.PerpetualProperty('Holding/common/B', \n",
    "                                                 models.PropertyValue(label_value='B_Value')),\n",
    "    'Holding/ps/C': models.PerpetualProperty('Holding/ps/C', \n",
    "                                             models.PropertyValue(label_value='C_Value')),\n",
    "    'Holding/ps/D': models.PerpetualProperty('Holding/ps/D', \n",
    "                                             models.PropertyValue(label_value='D_Value')),\n",
    "}\n",
    "\n",
    "adjust_holdings(portfolio_code, 'BBG000DW76R4', 30000, 1800000, properties)"
   ]
  },
  {
   "cell_type": "code",
   "execution_count": 146,
   "id": "aa1bd5c3",
   "metadata": {},
   "outputs": [
    {
     "data": {
      "text/plain": [
       "{'href': 'https://bleugrain.lusid.com/api/api/transactionportfolios/Bleugrain/1350/holdings?effectiveAt=2021-12-30T05%3A01%3A54.8733943%2B00%3A00',\n",
       " 'links': [{'description': None,\n",
       "            'href': 'https://bleugrain.lusid.com/api/api/portfolios/Bleugrain/1350',\n",
       "            'method': 'GET',\n",
       "            'relation': 'Root'},\n",
       "           {'description': None,\n",
       "            'href': 'https://bleugrain.lusid.com/api/api/schemas/entities/PortfolioHolding',\n",
       "            'method': 'GET',\n",
       "            'relation': 'EntitySchema'},\n",
       "           {'description': None,\n",
       "            'href': 'https://bleugrain.lusid.com/api/api/schemas/properties?propertyKeys=Holding%2Fcommon%2FA%2CHolding%2Fcommon%2FB%2CHolding%2Fps%2FC%2CHolding%2Fps%2FD%2CHolding%2Fdefault%2FSourcePortfolioId%2CHolding%2Fdefault%2FSourcePortfolioScope',\n",
       "            'method': 'GET',\n",
       "            'relation': 'PropertySchema'},\n",
       "           {'description': 'A link to the LUSID Insights website showing all '\n",
       "                           'logs related to this request',\n",
       "            'href': 'http://bleugrain.lusid.com/app/insights/logs/0HMEB1IH10EUD:0000000C',\n",
       "            'method': 'GET',\n",
       "            'relation': 'RequestLogs'}],\n",
       " 'next_page': None,\n",
       " 'previous_page': None,\n",
       " 'values': [{'cost': {'amount': 960000.0, 'currency': 'GBP'},\n",
       "             'cost_portfolio_ccy': {'amount': 960000.0, 'currency': 'GBP'},\n",
       "             'currency': 'GBP',\n",
       "             'holding_type': 'P',\n",
       "             'instrument_scope': 'default',\n",
       "             'instrument_uid': 'LUID_00003D6V',\n",
       "             'properties': {'Holding/common/A': {'effective_from': datetime.datetime(2021, 12, 30, 5, 0, 50, 150814, tzinfo=tzutc()),\n",
       "                                                 'effective_until': None,\n",
       "                                                 'key': 'Holding/common/A',\n",
       "                                                 'value': {'label_value': 'A_Value',\n",
       "                                                           'label_value_set': None,\n",
       "                                                           'metric_value': None}},\n",
       "                            'Holding/common/B': {'effective_from': datetime.datetime(2021, 12, 30, 5, 0, 50, 150814, tzinfo=tzutc()),\n",
       "                                                 'effective_until': None,\n",
       "                                                 'key': 'Holding/common/B',\n",
       "                                                 'value': {'label_value': 'B_Value',\n",
       "                                                           'label_value_set': None,\n",
       "                                                           'metric_value': None}},\n",
       "                            'Holding/default/SourcePortfolioId': {'effective_from': datetime.datetime(1, 1, 1, 0, 0, tzinfo=tzutc()),\n",
       "                                                                  'effective_until': None,\n",
       "                                                                  'key': 'Holding/default/SourcePortfolioId',\n",
       "                                                                  'value': {'label_value': '1350',\n",
       "                                                                            'label_value_set': None,\n",
       "                                                                            'metric_value': None}},\n",
       "                            'Holding/default/SourcePortfolioScope': {'effective_from': datetime.datetime(1, 1, 1, 0, 0, tzinfo=tzutc()),\n",
       "                                                                     'effective_until': None,\n",
       "                                                                     'key': 'Holding/default/SourcePortfolioScope',\n",
       "                                                                     'value': {'label_value': 'Bleugrain',\n",
       "                                                                               'label_value_set': None,\n",
       "                                                                               'metric_value': None}},\n",
       "                            'Holding/ps/C': {'effective_from': datetime.datetime(2021, 12, 30, 5, 0, 50, 150814, tzinfo=tzutc()),\n",
       "                                             'effective_until': None,\n",
       "                                             'key': 'Holding/ps/C',\n",
       "                                             'value': {'label_value': 'C_Value',\n",
       "                                                       'label_value_set': None,\n",
       "                                                       'metric_value': None}},\n",
       "                            'Holding/ps/D': {'effective_from': datetime.datetime(2021, 12, 30, 5, 0, 50, 150814, tzinfo=tzutc()),\n",
       "                                             'effective_until': None,\n",
       "                                             'key': 'Holding/ps/D',\n",
       "                                             'value': {'label_value': 'D_Value',\n",
       "                                                       'label_value_set': None,\n",
       "                                                       'metric_value': None}}},\n",
       "             'settled_units': 24000.0,\n",
       "             'sub_holding_keys': {},\n",
       "             'transaction': None,\n",
       "             'units': 24000.0},\n",
       "            {'cost': {'amount': 1800000.0, 'currency': 'GBP'},\n",
       "             'cost_portfolio_ccy': {'amount': 1800000.0, 'currency': 'GBP'},\n",
       "             'currency': 'GBP',\n",
       "             'holding_type': 'P',\n",
       "             'instrument_scope': 'default',\n",
       "             'instrument_uid': 'LUID_00003D6U',\n",
       "             'properties': {'Holding/common/A': {'effective_from': datetime.datetime(2021, 12, 30, 5, 1, 32, 585340, tzinfo=tzutc()),\n",
       "                                                 'effective_until': None,\n",
       "                                                 'key': 'Holding/common/A',\n",
       "                                                 'value': {'label_value': 'A_Value',\n",
       "                                                           'label_value_set': None,\n",
       "                                                           'metric_value': None}},\n",
       "                            'Holding/common/B': {'effective_from': datetime.datetime(2021, 12, 30, 5, 1, 32, 585340, tzinfo=tzutc()),\n",
       "                                                 'effective_until': None,\n",
       "                                                 'key': 'Holding/common/B',\n",
       "                                                 'value': {'label_value': 'B_Value',\n",
       "                                                           'label_value_set': None,\n",
       "                                                           'metric_value': None}},\n",
       "                            'Holding/default/SourcePortfolioId': {'effective_from': datetime.datetime(1, 1, 1, 0, 0, tzinfo=tzutc()),\n",
       "                                                                  'effective_until': None,\n",
       "                                                                  'key': 'Holding/default/SourcePortfolioId',\n",
       "                                                                  'value': {'label_value': '1350',\n",
       "                                                                            'label_value_set': None,\n",
       "                                                                            'metric_value': None}},\n",
       "                            'Holding/default/SourcePortfolioScope': {'effective_from': datetime.datetime(1, 1, 1, 0, 0, tzinfo=tzutc()),\n",
       "                                                                     'effective_until': None,\n",
       "                                                                     'key': 'Holding/default/SourcePortfolioScope',\n",
       "                                                                     'value': {'label_value': 'Bleugrain',\n",
       "                                                                               'label_value_set': None,\n",
       "                                                                               'metric_value': None}},\n",
       "                            'Holding/ps/C': {'effective_from': datetime.datetime(2021, 12, 30, 5, 1, 32, 585340, tzinfo=tzutc()),\n",
       "                                             'effective_until': None,\n",
       "                                             'key': 'Holding/ps/C',\n",
       "                                             'value': {'label_value': 'C_Value',\n",
       "                                                       'label_value_set': None,\n",
       "                                                       'metric_value': None}},\n",
       "                            'Holding/ps/D': {'effective_from': datetime.datetime(2021, 12, 30, 5, 1, 32, 585340, tzinfo=tzutc()),\n",
       "                                             'effective_until': None,\n",
       "                                             'key': 'Holding/ps/D',\n",
       "                                             'value': {'label_value': 'D_Value',\n",
       "                                                       'label_value_set': None,\n",
       "                                                       'metric_value': None}}},\n",
       "             'settled_units': 30000.0,\n",
       "             'sub_holding_keys': {},\n",
       "             'transaction': None,\n",
       "             'units': 30000.0}],\n",
       " 'version': {'as_at_date': datetime.datetime(2021, 12, 30, 5, 1, 33, 389581, tzinfo=tzutc()),\n",
       "             'effective_from': datetime.datetime(2021, 12, 30, 5, 1, 54, 873394, tzinfo=tzutc())}}"
      ]
     },
     "execution_count": 146,
     "metadata": {},
     "output_type": "execute_result"
    }
   ],
   "source": [
    "transactions_api.get_holdings(scope, portfolio_code)"
   ]
  },
  {
   "cell_type": "code",
   "execution_count": 147,
   "id": "9bd02721",
   "metadata": {},
   "outputs": [
    {
     "data": {
      "text/plain": [
       "\"\\nproperties = {\\n    'Holding/common/A': models.PerpetualProperty('Holding/common/A', \\n                                                 models.PropertyValue(label_value='A_Value')),\\n    'Holding/common/B': models.PerpetualProperty('Holding/common/B', \\n                                                 models.PropertyValue(label_value='B_Value')),\\n    'Holding/ps/C': models.PerpetualProperty('Holding/ps/C', \\n                                             models.PropertyValue(label_value='C1_Value')),\\n    'Holding/crims/E': models.PerpetualProperty('Holding/crims/E', \\n                                             models.PropertyValue(label_value='E_Value')),\\n    'Holding/crims/F': models.PerpetualProperty('Holding/crims/F', \\n                                             models.PropertyValue(label_value='F_Value')),\\n}\\n\\nadjust_holdings(portfolio_code, 'BBG000DW76R4', 50000, 3500000, properties)\\n\""
      ]
     },
     "execution_count": 147,
     "metadata": {},
     "output_type": "execute_result"
    }
   ],
   "source": [
    "\"\"\"\n",
    "properties = {\n",
    "    'Holding/common/A': models.PerpetualProperty('Holding/common/A', \n",
    "                                                 models.PropertyValue(label_value='A_Value')),\n",
    "    'Holding/common/B': models.PerpetualProperty('Holding/common/B', \n",
    "                                                 models.PropertyValue(label_value='B_Value')),\n",
    "    'Holding/ps/C': models.PerpetualProperty('Holding/ps/C', \n",
    "                                             models.PropertyValue(label_value='C1_Value')),\n",
    "    'Holding/crims/E': models.PerpetualProperty('Holding/crims/E', \n",
    "                                             models.PropertyValue(label_value='E_Value')),\n",
    "    'Holding/crims/F': models.PerpetualProperty('Holding/crims/F', \n",
    "                                             models.PropertyValue(label_value='F_Value')),\n",
    "}\n",
    "\n",
    "adjust_holdings(portfolio_code, 'BBG000DW76R4', 50000, 3500000, properties)\n",
    "\"\"\""
   ]
  },
  {
   "cell_type": "code",
   "execution_count": 148,
   "id": "955bc852",
   "metadata": {},
   "outputs": [
    {
     "data": {
      "text/html": [
       "<div>\n",
       "<style scoped>\n",
       "    .dataframe tbody tr th:only-of-type {\n",
       "        vertical-align: middle;\n",
       "    }\n",
       "\n",
       "    .dataframe tbody tr th {\n",
       "        vertical-align: top;\n",
       "    }\n",
       "\n",
       "    .dataframe thead th {\n",
       "        text-align: right;\n",
       "    }\n",
       "</style>\n",
       "<table border=\"1\" class=\"dataframe\">\n",
       "  <thead>\n",
       "    <tr style=\"text-align: right;\">\n",
       "      <th></th>\n",
       "      <th>instrument_scope</th>\n",
       "      <th>instrument_uid</th>\n",
       "      <th>sub_holding_keys</th>\n",
       "      <th>A(common-Properties)</th>\n",
       "      <th>B(common-Properties)</th>\n",
       "      <th>C(ps-Properties)</th>\n",
       "      <th>D(ps-Properties)</th>\n",
       "      <th>SourcePortfolioId(default-Properties)</th>\n",
       "      <th>SourcePortfolioScope(default-Properties)</th>\n",
       "      <th>holding_type</th>\n",
       "      <th>units</th>\n",
       "      <th>settled_units</th>\n",
       "      <th>cost.amount</th>\n",
       "      <th>cost.currency</th>\n",
       "      <th>cost_portfolio_ccy.amount</th>\n",
       "      <th>cost_portfolio_ccy.currency</th>\n",
       "      <th>currency</th>\n",
       "    </tr>\n",
       "  </thead>\n",
       "  <tbody>\n",
       "    <tr>\n",
       "      <th>0</th>\n",
       "      <td>default</td>\n",
       "      <td>LUID_00003D6V</td>\n",
       "      <td>{}</td>\n",
       "      <td>A_Value</td>\n",
       "      <td>B_Value</td>\n",
       "      <td>C_Value</td>\n",
       "      <td>D_Value</td>\n",
       "      <td>1350</td>\n",
       "      <td>Bleugrain</td>\n",
       "      <td>P</td>\n",
       "      <td>24,000.00</td>\n",
       "      <td>24,000.00</td>\n",
       "      <td>960,000.00</td>\n",
       "      <td>GBP</td>\n",
       "      <td>960,000.00</td>\n",
       "      <td>GBP</td>\n",
       "      <td>GBP</td>\n",
       "    </tr>\n",
       "    <tr>\n",
       "      <th>1</th>\n",
       "      <td>default</td>\n",
       "      <td>LUID_00003D6U</td>\n",
       "      <td>{}</td>\n",
       "      <td>A_Value</td>\n",
       "      <td>B_Value</td>\n",
       "      <td>C_Value</td>\n",
       "      <td>D_Value</td>\n",
       "      <td>1350</td>\n",
       "      <td>Bleugrain</td>\n",
       "      <td>P</td>\n",
       "      <td>30,000.00</td>\n",
       "      <td>30,000.00</td>\n",
       "      <td>1,800,000.00</td>\n",
       "      <td>GBP</td>\n",
       "      <td>1,800,000.00</td>\n",
       "      <td>GBP</td>\n",
       "      <td>GBP</td>\n",
       "    </tr>\n",
       "  </tbody>\n",
       "</table>\n",
       "</div>"
      ],
      "text/plain": [
       "  instrument_scope instrument_uid sub_holding_keys A(common-Properties)  \\\n",
       "0          default  LUID_00003D6V               {}              A_Value   \n",
       "1          default  LUID_00003D6U               {}              A_Value   \n",
       "\n",
       "  B(common-Properties) C(ps-Properties) D(ps-Properties)  \\\n",
       "0              B_Value          C_Value          D_Value   \n",
       "1              B_Value          C_Value          D_Value   \n",
       "\n",
       "  SourcePortfolioId(default-Properties)  \\\n",
       "0                                  1350   \n",
       "1                                  1350   \n",
       "\n",
       "  SourcePortfolioScope(default-Properties) holding_type     units  \\\n",
       "0                                Bleugrain            P 24,000.00   \n",
       "1                                Bleugrain            P 30,000.00   \n",
       "\n",
       "   settled_units  cost.amount cost.currency  cost_portfolio_ccy.amount  \\\n",
       "0      24,000.00   960,000.00           GBP                 960,000.00   \n",
       "1      30,000.00 1,800,000.00           GBP               1,800,000.00   \n",
       "\n",
       "  cost_portfolio_ccy.currency currency  \n",
       "0                         GBP      GBP  \n",
       "1                         GBP      GBP  "
      ]
     },
     "execution_count": 148,
     "metadata": {},
     "output_type": "execute_result"
    }
   ],
   "source": [
    "holdings_response = transactions_api.get_holdings(scope, portfolio_code)\n",
    "lusid_response_to_data_frame(\n",
    "    holdings_response,\n",
    "    rename_properties=True\n",
    ")"
   ]
  },
  {
   "cell_type": "markdown",
   "id": "6c9bdb39",
   "metadata": {},
   "source": [
    "## Merge properties and adjust holdings"
   ]
  },
  {
   "cell_type": "code",
   "execution_count": 166,
   "id": "65965b57",
   "metadata": {},
   "outputs": [
    {
     "data": {
      "text/plain": [
       "{'LUID_00003D6V': {'Holding/common/A': {'effective_from': datetime.datetime(2021, 12, 30, 5, 0, 50, 150814, tzinfo=tzutc()),\n",
       "   'effective_until': None,\n",
       "   'key': 'Holding/common/A',\n",
       "   'value': {'label_value': 'A_Value',\n",
       "             'label_value_set': None,\n",
       "             'metric_value': None}},\n",
       "  'Holding/common/B': {'effective_from': datetime.datetime(2021, 12, 30, 5, 0, 50, 150814, tzinfo=tzutc()),\n",
       "   'effective_until': None,\n",
       "   'key': 'Holding/common/B',\n",
       "   'value': {'label_value': 'B_Value',\n",
       "             'label_value_set': None,\n",
       "             'metric_value': None}},\n",
       "  'Holding/ps/C': {'effective_from': datetime.datetime(2021, 12, 30, 5, 0, 50, 150814, tzinfo=tzutc()),\n",
       "   'effective_until': None,\n",
       "   'key': 'Holding/ps/C',\n",
       "   'value': {'label_value': 'C_Value',\n",
       "             'label_value_set': None,\n",
       "             'metric_value': None}},\n",
       "  'Holding/ps/D': {'effective_from': datetime.datetime(2021, 12, 30, 5, 0, 50, 150814, tzinfo=tzutc()),\n",
       "   'effective_until': None,\n",
       "   'key': 'Holding/ps/D',\n",
       "   'value': {'label_value': 'D_Value',\n",
       "             'label_value_set': None,\n",
       "             'metric_value': None}},\n",
       "  'Holding/default/SourcePortfolioId': {'effective_from': datetime.datetime(1, 1, 1, 0, 0, tzinfo=tzutc()),\n",
       "   'effective_until': None,\n",
       "   'key': 'Holding/default/SourcePortfolioId',\n",
       "   'value': {'label_value': '1350',\n",
       "             'label_value_set': None,\n",
       "             'metric_value': None}},\n",
       "  'Holding/default/SourcePortfolioScope': {'effective_from': datetime.datetime(1, 1, 1, 0, 0, tzinfo=tzutc()),\n",
       "   'effective_until': None,\n",
       "   'key': 'Holding/default/SourcePortfolioScope',\n",
       "   'value': {'label_value': 'Bleugrain',\n",
       "             'label_value_set': None,\n",
       "             'metric_value': None}}},\n",
       " 'LUID_00003D6U': {'Holding/common/A': {'effective_from': datetime.datetime(2021, 12, 30, 5, 6, 53, 759716, tzinfo=tzutc()),\n",
       "   'effective_until': None,\n",
       "   'key': 'Holding/common/A',\n",
       "   'value': {'label_value': 'A_Value',\n",
       "             'label_value_set': None,\n",
       "             'metric_value': None}},\n",
       "  'Holding/common/B': {'effective_from': datetime.datetime(2021, 12, 30, 5, 6, 53, 759716, tzinfo=tzutc()),\n",
       "   'effective_until': None,\n",
       "   'key': 'Holding/common/B',\n",
       "   'value': {'label_value': 'B_Value',\n",
       "             'label_value_set': None,\n",
       "             'metric_value': None}},\n",
       "  'Holding/ps/C': {'effective_from': datetime.datetime(2021, 12, 30, 5, 6, 53, 759716, tzinfo=tzutc()),\n",
       "   'effective_until': None,\n",
       "   'key': 'Holding/ps/C',\n",
       "   'value': {'label_value': 'C_Value',\n",
       "             'label_value_set': None,\n",
       "             'metric_value': None}},\n",
       "  'Holding/ps/D': {'effective_from': datetime.datetime(2021, 12, 30, 5, 6, 53, 759716, tzinfo=tzutc()),\n",
       "   'effective_until': None,\n",
       "   'key': 'Holding/ps/D',\n",
       "   'value': {'label_value': 'D_Value',\n",
       "             'label_value_set': None,\n",
       "             'metric_value': None}},\n",
       "  'Holding/crims/E': {'effective_from': datetime.datetime(2021, 12, 30, 5, 6, 53, 759716, tzinfo=tzutc()),\n",
       "   'effective_until': None,\n",
       "   'key': 'Holding/crims/E',\n",
       "   'value': {'label_value': 'E2_Value',\n",
       "             'label_value_set': None,\n",
       "             'metric_value': None}},\n",
       "  'Holding/crims/F': {'effective_from': datetime.datetime(2021, 12, 30, 5, 6, 53, 759716, tzinfo=tzutc()),\n",
       "   'effective_until': None,\n",
       "   'key': 'Holding/crims/F',\n",
       "   'value': {'label_value': 'F2_Value',\n",
       "             'label_value_set': None,\n",
       "             'metric_value': None}},\n",
       "  'Holding/default/SourcePortfolioId': {'effective_from': datetime.datetime(1, 1, 1, 0, 0, tzinfo=tzutc()),\n",
       "   'effective_until': None,\n",
       "   'key': 'Holding/default/SourcePortfolioId',\n",
       "   'value': {'label_value': '1350',\n",
       "             'label_value_set': None,\n",
       "             'metric_value': None}},\n",
       "  'Holding/default/SourcePortfolioScope': {'effective_from': datetime.datetime(1, 1, 1, 0, 0, tzinfo=tzutc()),\n",
       "   'effective_until': None,\n",
       "   'key': 'Holding/default/SourcePortfolioScope',\n",
       "   'value': {'label_value': 'Bleugrain',\n",
       "             'label_value_set': None,\n",
       "             'metric_value': None}}}}"
      ]
     },
     "execution_count": 166,
     "metadata": {},
     "output_type": "execute_result"
    }
   ],
   "source": [
    "holdings = transactions_api.get_holdings(scope, portfolio_code)\n",
    "holdings_properties = { holding.instrument_uid: holding.properties for holding in holdings.values }\n",
    "holdings_properties"
   ]
  },
  {
   "cell_type": "code",
   "execution_count": 152,
   "id": "3c030945",
   "metadata": {},
   "outputs": [
    {
     "name": "stdout",
     "output_type": "stream",
     "text": [
      "Property not found\n"
     ]
    }
   ],
   "source": [
    "try:\n",
    "    type(holdings.values[0].properties['Holding/common/G'])\n",
    "\n",
    "except KeyError as e:\n",
    "    print('Property not found')"
   ]
  },
  {
   "cell_type": "code",
   "execution_count": 153,
   "id": "4f02522b",
   "metadata": {},
   "outputs": [
    {
     "data": {
      "text/plain": [
       "'LUID_00003D6U'"
      ]
     },
     "execution_count": 153,
     "metadata": {},
     "output_type": "execute_result"
    }
   ],
   "source": [
    "instrument_identifier = 'BBG000DW76R4'\n",
    "instruments_api = api_factory.build(lusid.api.InstrumentsApi)\n",
    "instrument = instruments_api.get_instrument(identifier_type='Figi', identifier=instrument_identifier)\n",
    "lusid_instrument_id = instrument.lusid_instrument_id\n",
    "lusid_instrument_id"
   ]
  },
  {
   "cell_type": "code",
   "execution_count": 154,
   "id": "79d745b6",
   "metadata": {},
   "outputs": [
    {
     "data": {
      "text/plain": [
       "{'Holding/common/A': {'effective_from': datetime.datetime(2021, 12, 30, 5, 1, 32, 585340, tzinfo=tzutc()),\n",
       "  'effective_until': None,\n",
       "  'key': 'Holding/common/A',\n",
       "  'value': {'label_value': 'A_Value',\n",
       "            'label_value_set': None,\n",
       "            'metric_value': None}},\n",
       " 'Holding/common/B': {'effective_from': datetime.datetime(2021, 12, 30, 5, 1, 32, 585340, tzinfo=tzutc()),\n",
       "  'effective_until': None,\n",
       "  'key': 'Holding/common/B',\n",
       "  'value': {'label_value': 'B_Value',\n",
       "            'label_value_set': None,\n",
       "            'metric_value': None}},\n",
       " 'Holding/ps/C': {'effective_from': datetime.datetime(2021, 12, 30, 5, 1, 32, 585340, tzinfo=tzutc()),\n",
       "  'effective_until': None,\n",
       "  'key': 'Holding/ps/C',\n",
       "  'value': {'label_value': 'C_Value',\n",
       "            'label_value_set': None,\n",
       "            'metric_value': None}},\n",
       " 'Holding/ps/D': {'effective_from': datetime.datetime(2021, 12, 30, 5, 1, 32, 585340, tzinfo=tzutc()),\n",
       "  'effective_until': None,\n",
       "  'key': 'Holding/ps/D',\n",
       "  'value': {'label_value': 'D_Value',\n",
       "            'label_value_set': None,\n",
       "            'metric_value': None}},\n",
       " 'Holding/default/SourcePortfolioId': {'effective_from': datetime.datetime(1, 1, 1, 0, 0, tzinfo=tzutc()),\n",
       "  'effective_until': None,\n",
       "  'key': 'Holding/default/SourcePortfolioId',\n",
       "  'value': {'label_value': '1350',\n",
       "            'label_value_set': None,\n",
       "            'metric_value': None}},\n",
       " 'Holding/default/SourcePortfolioScope': {'effective_from': datetime.datetime(1, 1, 1, 0, 0, tzinfo=tzutc()),\n",
       "  'effective_until': None,\n",
       "  'key': 'Holding/default/SourcePortfolioScope',\n",
       "  'value': {'label_value': 'Bleugrain',\n",
       "            'label_value_set': None,\n",
       "            'metric_value': None}}}"
      ]
     },
     "execution_count": 154,
     "metadata": {},
     "output_type": "execute_result"
    }
   ],
   "source": [
    "existing_properties = holdings_properties[lusid_instrument_id]\n",
    "existing_properties"
   ]
  },
  {
   "cell_type": "code",
   "execution_count": 155,
   "id": "ed94e7e1",
   "metadata": {},
   "outputs": [],
   "source": [
    "all_properties = [\n",
    "    'Holding/common/A',\n",
    "    'Holding/common/B',\n",
    "    'Holding/ps/C',\n",
    "    'Holding/ps/D',\n",
    "    'Holding/crims/E',\n",
    "    'Holding/crims/F',\n",
    "]"
   ]
  },
  {
   "cell_type": "code",
   "execution_count": 156,
   "id": "95c18347",
   "metadata": {},
   "outputs": [],
   "source": [
    "new_properties = {\n",
    "    'Holding/crims/E': models.PerpetualProperty('Holding/crims/E', \n",
    "                                             models.PropertyValue(label_value='E2_Value')),\n",
    "    'Holding/crims/F': models.PerpetualProperty('Holding/crims/F', \n",
    "                                             models.PropertyValue(label_value='F2_Value')),\n",
    "}"
   ]
  },
  {
   "cell_type": "code",
   "execution_count": 157,
   "id": "30878a94",
   "metadata": {},
   "outputs": [],
   "source": [
    "def merge_properties(existing_properties, new_properties, list_of_all_properties):\n",
    "    properties = {}\n",
    "    for property_name in list_of_all_properties:\n",
    "        if property_name not in new_properties.keys():\n",
    "            try: \n",
    "                properties[property_name] = existing_properties[property_name]\n",
    "            except KeyError as e:\n",
    "                pass\n",
    "        else:\n",
    "            try:\n",
    "                properties[property_name] = new_properties[property_name]\n",
    "            except KeyError as e:\n",
    "                pass\n",
    "    return properties"
   ]
  },
  {
   "cell_type": "code",
   "execution_count": 163,
   "id": "b00dfe6e",
   "metadata": {},
   "outputs": [
    {
     "data": {
      "text/plain": [
       "{'Holding/common/A': {'effective_from': datetime.datetime(2021, 12, 30, 5, 1, 32, 585340, tzinfo=tzutc()),\n",
       "  'effective_until': None,\n",
       "  'key': 'Holding/common/A',\n",
       "  'value': {'label_value': 'A_Value',\n",
       "            'label_value_set': None,\n",
       "            'metric_value': None}},\n",
       " 'Holding/common/B': {'effective_from': datetime.datetime(2021, 12, 30, 5, 1, 32, 585340, tzinfo=tzutc()),\n",
       "  'effective_until': None,\n",
       "  'key': 'Holding/common/B',\n",
       "  'value': {'label_value': 'B_Value',\n",
       "            'label_value_set': None,\n",
       "            'metric_value': None}},\n",
       " 'Holding/ps/C': {'effective_from': datetime.datetime(2021, 12, 30, 5, 1, 32, 585340, tzinfo=tzutc()),\n",
       "  'effective_until': None,\n",
       "  'key': 'Holding/ps/C',\n",
       "  'value': {'label_value': 'C_Value',\n",
       "            'label_value_set': None,\n",
       "            'metric_value': None}},\n",
       " 'Holding/ps/D': {'effective_from': datetime.datetime(2021, 12, 30, 5, 1, 32, 585340, tzinfo=tzutc()),\n",
       "  'effective_until': None,\n",
       "  'key': 'Holding/ps/D',\n",
       "  'value': {'label_value': 'D_Value',\n",
       "            'label_value_set': None,\n",
       "            'metric_value': None}},\n",
       " 'Holding/crims/E': {'key': 'Holding/crims/E',\n",
       "  'value': {'label_value': 'E2_Value',\n",
       "            'label_value_set': None,\n",
       "            'metric_value': None}},\n",
       " 'Holding/crims/F': {'key': 'Holding/crims/F',\n",
       "  'value': {'label_value': 'F2_Value',\n",
       "            'label_value_set': None,\n",
       "            'metric_value': None}}}"
      ]
     },
     "execution_count": 163,
     "metadata": {},
     "output_type": "execute_result"
    }
   ],
   "source": [
    "merged_properties = merge_properties(existing_properties, new_properties, all_properties)\n",
    "merged_properties"
   ]
  },
  {
   "cell_type": "code",
   "execution_count": 164,
   "id": "d93d0379",
   "metadata": {},
   "outputs": [
    {
     "name": "stdout",
     "output_type": "stream",
     "text": [
      "Current Time: 2021-12-30 05:06:53.759425+00:00\n"
     ]
    }
   ],
   "source": [
    "adjust_holdings(portfolio_code, 'BBG000DW76R4', 58000, 4700000, merged_properties)"
   ]
  },
  {
   "cell_type": "code",
   "execution_count": 165,
   "id": "aab9e9a3",
   "metadata": {},
   "outputs": [
    {
     "data": {
      "text/plain": [
       "{'Holding/common/A': {'effective_from': datetime.datetime(2021, 12, 30, 5, 6, 53, 759716, tzinfo=tzutc()),\n",
       "  'effective_until': None,\n",
       "  'key': 'Holding/common/A',\n",
       "  'value': {'label_value': 'A_Value',\n",
       "            'label_value_set': None,\n",
       "            'metric_value': None}},\n",
       " 'Holding/common/B': {'effective_from': datetime.datetime(2021, 12, 30, 5, 6, 53, 759716, tzinfo=tzutc()),\n",
       "  'effective_until': None,\n",
       "  'key': 'Holding/common/B',\n",
       "  'value': {'label_value': 'B_Value',\n",
       "            'label_value_set': None,\n",
       "            'metric_value': None}},\n",
       " 'Holding/ps/C': {'effective_from': datetime.datetime(2021, 12, 30, 5, 6, 53, 759716, tzinfo=tzutc()),\n",
       "  'effective_until': None,\n",
       "  'key': 'Holding/ps/C',\n",
       "  'value': {'label_value': 'C_Value',\n",
       "            'label_value_set': None,\n",
       "            'metric_value': None}},\n",
       " 'Holding/ps/D': {'effective_from': datetime.datetime(2021, 12, 30, 5, 6, 53, 759716, tzinfo=tzutc()),\n",
       "  'effective_until': None,\n",
       "  'key': 'Holding/ps/D',\n",
       "  'value': {'label_value': 'D_Value',\n",
       "            'label_value_set': None,\n",
       "            'metric_value': None}},\n",
       " 'Holding/crims/E': {'effective_from': datetime.datetime(2021, 12, 30, 5, 6, 53, 759716, tzinfo=tzutc()),\n",
       "  'effective_until': None,\n",
       "  'key': 'Holding/crims/E',\n",
       "  'value': {'label_value': 'E2_Value',\n",
       "            'label_value_set': None,\n",
       "            'metric_value': None}},\n",
       " 'Holding/crims/F': {'effective_from': datetime.datetime(2021, 12, 30, 5, 6, 53, 759716, tzinfo=tzutc()),\n",
       "  'effective_until': None,\n",
       "  'key': 'Holding/crims/F',\n",
       "  'value': {'label_value': 'F2_Value',\n",
       "            'label_value_set': None,\n",
       "            'metric_value': None}},\n",
       " 'Holding/default/SourcePortfolioId': {'effective_from': datetime.datetime(1, 1, 1, 0, 0, tzinfo=tzutc()),\n",
       "  'effective_until': None,\n",
       "  'key': 'Holding/default/SourcePortfolioId',\n",
       "  'value': {'label_value': '1350',\n",
       "            'label_value_set': None,\n",
       "            'metric_value': None}},\n",
       " 'Holding/default/SourcePortfolioScope': {'effective_from': datetime.datetime(1, 1, 1, 0, 0, tzinfo=tzutc()),\n",
       "  'effective_until': None,\n",
       "  'key': 'Holding/default/SourcePortfolioScope',\n",
       "  'value': {'label_value': 'Bleugrain',\n",
       "            'label_value_set': None,\n",
       "            'metric_value': None}}}"
      ]
     },
     "execution_count": 165,
     "metadata": {},
     "output_type": "execute_result"
    }
   ],
   "source": [
    "holdings = transactions_api.get_holdings(scope, portfolio_code)\n",
    "holdings_properties = { holding.instrument_uid: holding.properties for holding in holdings.values }\n",
    "holdings_properties[instrument.lusid_instrument_id]"
   ]
  },
  {
   "cell_type": "code",
   "execution_count": null,
   "id": "5560e177",
   "metadata": {},
   "outputs": [],
   "source": [
    "holdings_properties[instrument.lusid_instrument_id]"
   ]
  }
 ],
 "metadata": {
  "kernelspec": {
   "display_name": "Python 3 (ipykernel)",
   "language": "python",
   "name": "python3"
  },
  "language_info": {
   "codemirror_mode": {
    "name": "ipython",
    "version": 3
   },
   "file_extension": ".py",
   "mimetype": "text/x-python",
   "name": "python",
   "nbconvert_exporter": "python",
   "pygments_lexer": "ipython3",
   "version": "3.10.0"
  }
 },
 "nbformat": 4,
 "nbformat_minor": 5
}
